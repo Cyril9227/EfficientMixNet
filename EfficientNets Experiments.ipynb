{
 "cells": [
  {
   "cell_type": "markdown",
   "metadata": {},
   "source": [
    "# <center> EfficientNets Experiments </center>"
   ]
  },
  {
   "cell_type": "markdown",
   "metadata": {},
   "source": [
    "# Table of contents\n",
    "\n",
    "1. [Dataset preparation](#data_preparation)\n",
    "    1. [Label extraction](#label_extraction)\n",
    "    2. [Partition creation](#partition)\n",
    "    3. [Data generation](#data_gen)\n",
    "    4. [Data storage and loading](#data_storage)\n",
    "3. [Visual inspection of data](#data_viz)\n",
    "4. [Modeling Phase](#model)\n",
    "    1. [Evaluation](#model_eval)\n",
    "    2. [Architecture](#model_arch)\n",
    "5. [EfficientNets](#ef_net)\n",
    "6. [Results](#res)\n",
    "    1. [Multi class](#multi_class)\n",
    "    2. [Binary class](#bin)\n",
    "    3. [SNP / Indels](#snp_indels_res)\n",
    "    3. [VCF Evaluation](#vcf)\n",
    "\n",
    "\n",
    "    "
   ]
  },
  {
   "cell_type": "markdown",
   "metadata": {},
   "source": [
    "# Imports"
   ]
  },
  {
   "cell_type": "code",
   "execution_count": 4,
   "metadata": {},
   "outputs": [],
   "source": [
    "# If a GPU is busy, use the available one\n",
    "import os\n",
    "os.environ[\"CUDA_DEVICE_ORDER\"]=\"PCI_BUS_ID\";\n",
    " \n",
    "# The GPU id to use, usually either \"0\" or \"1\";\n",
    "os.environ[\"CUDA_VISIBLE_DEVICES\"]=\"1\";  \n",
    "\n",
    "!export CUDA_VISIBLE_DEVICES=1"
   ]
  },
  {
   "cell_type": "code",
   "execution_count": 5,
   "metadata": {},
   "outputs": [
    {
     "name": "stdout",
     "output_type": "stream",
     "text": [
      "Keras version   : 2.2.4\n",
      "Number of cores : 56\n",
      "GPU infos       :\n",
      "Mon Jul 29 11:19:15 2019       \r\n",
      "+-----------------------------------------------------------------------------+\r\n",
      "| NVIDIA-SMI 430.26       Driver Version: 430.26       CUDA Version: 10.2     |\r\n",
      "|-------------------------------+----------------------+----------------------+\r\n",
      "| GPU  Name        Persistence-M| Bus-Id        Disp.A | Volatile Uncorr. ECC |\r\n",
      "| Fan  Temp  Perf  Pwr:Usage/Cap|         Memory-Usage | GPU-Util  Compute M. |\r\n",
      "|===============================+======================+======================|\r\n",
      "|   0  Quadro M6000 24GB   Off  | 00000000:02:00.0 Off |                  Off |\r\n",
      "| 44%   73C    P0   179W / 250W |  12600MiB / 24475MiB |     26%      Default |\r\n",
      "+-------------------------------+----------------------+----------------------+\r\n",
      "|   1  Quadro M6000 24GB   Off  | 00000000:03:00.0 Off |                  Off |\r\n",
      "| 57%   83C    P0   226W / 250W |  23593MiB / 24476MiB |    100%      Default |\r\n",
      "+-------------------------------+----------------------+----------------------+\r\n",
      "                                                                               \r\n",
      "+-----------------------------------------------------------------------------+\r\n",
      "| Processes:                                                       GPU Memory |\r\n",
      "|  GPU       PID   Type   Process name                             Usage      |\r\n",
      "|=============================================================================|\r\n",
      "|    0     20889      G   /usr/bin/X                                    29MiB |\r\n",
      "|    0     20951      G   /usr/bin/gnome-shell                           6MiB |\r\n",
      "|    0     27707      C   /opt/python3.5/bin/python3                 12551MiB |\r\n",
      "|    1     21516      C   /opt/python3.5/bin/python3                 23054MiB |\r\n",
      "|    1     27707      C   /opt/python3.5/bin/python3                   522MiB |\r\n",
      "+-----------------------------------------------------------------------------+\r\n"
     ]
    }
   ],
   "source": [
    "%matplotlib inline\n",
    "\n",
    "import os\n",
    "import sys\n",
    "import json\n",
    "import keras\n",
    "import pysam\n",
    "import warnings\n",
    "\n",
    "import numpy as np\n",
    "import tensorflow as tf\n",
    "import keras.backend as K\n",
    "import matplotlib.pyplot as plt\n",
    "\n",
    "from PIL import Image\n",
    "from itertools import islice\n",
    "\n",
    "\n",
    "from keras.models import Model, load_model\n",
    "from keras.layers import *\n",
    "from keras.optimizers  import *\n",
    "from keras_efficientnets import *\n",
    "from keras.metrics import *\n",
    "\n",
    "from keras.activations import *\n",
    "from keras.utils import multi_gpu_model, Sequence\n",
    "from keras.callbacks import EarlyStopping, ModelCheckpoint, ReduceLROnPlateau\n",
    "\n",
    "from sklearn.metrics import *\n",
    "from inspect import signature\n",
    "\n",
    "\n",
    "from conv_net_utils import *\n",
    "\n",
    "warnings.filterwarnings(\"ignore\")\n",
    "np.random.seed(1997)\n",
    "from tensorflow import set_random_seed\n",
    "set_random_seed(1997)\n",
    "\n",
    "print(\"Keras version   :\", keras.__version__)\n",
    "print(\"Number of cores :\", os.cpu_count())\n",
    "print(\"GPU infos       :\")\n",
    "!nvidia-smi\n",
    "#watch -n0.5 nvidia-smi in the terminal to monitor GPU usage"
   ]
  },
  {
   "cell_type": "code",
   "execution_count": 4,
   "metadata": {},
   "outputs": [],
   "source": [
    "path_train = \"/mnt/genomics002/calva/out/pileups/mixture_HG001_HG002/chr21/\"\n",
    "path_test  = \"/mnt/genomics002/calva/out/pileups/mixture_HG001_HG002/chr22/\""
   ]
  },
  {
   "cell_type": "markdown",
   "metadata": {},
   "source": [
    "Load the partition data"
   ]
  },
  {
   "cell_type": "code",
   "execution_count": 5,
   "metadata": {},
   "outputs": [],
   "source": [
    "with open('Data/partition.json', 'r') as f:\n",
    "    partition = json.load(f)"
   ]
  },
  {
   "cell_type": "code",
   "execution_count": 6,
   "metadata": {},
   "outputs": [],
   "source": [
    "list_indx_train = partition['train']\n",
    "list_indx_valid = partition['valid']\n",
    "list_indx_test  = partition['test']\n",
    "\n",
    "list_indx_train_downsampled = partition['train_downsampled']\n",
    "list_indx_valid_downsampled = partition['valid_downsampled']\n",
    "list_indx_test_downsampled  = partition['test_downsampled']\n",
    "\n",
    "\n",
    "rnd_pos_train = np.random.choice(list_indx_train, size=10000, replace=False)\n",
    "rnd_pos_valid = np.random.choice(list_indx_valid, size=1000, replace=False)\n",
    "rnd_pos_test = np.random.choice(list_indx_test, size=10000, replace=False)\n",
    "\n",
    "labels_chr21_encoded = {int(i) : j for i, j in partition['labels_chr21_encoded'].items()}\n",
    "labels_chr22_encoded = {int(i) : j for i, j in partition['labels_chr22_encoded'].items()}"
   ]
  },
  {
   "cell_type": "markdown",
   "metadata": {},
   "source": [
    "## Data Generation <a name=\"data_gen\"></a>"
   ]
  },
  {
   "cell_type": "markdown",
   "metadata": {},
   "source": [
    "### Loading and processing pileups images"
   ]
  },
  {
   "cell_type": "markdown",
   "metadata": {},
   "source": [
    "### Data Generator"
   ]
  },
  {
   "cell_type": "code",
   "execution_count": 6,
   "metadata": {},
   "outputs": [],
   "source": [
    "floor = np.floor\n",
    "shuffle = np.random.shuffle\n",
    "\n",
    "class DataGenerator(Sequence):\n",
    "    'Generates data for Keras'\n",
    "    def __init__(self, list_IDs, labels=None, batch_size=32, shuffle=True, train=True):\n",
    "        'Initialization'\n",
    "        self.batch_size = batch_size\n",
    "        self.list_IDs = list_IDs\n",
    "        self.shuffle = shuffle\n",
    "        self.labels = labels\n",
    "        \n",
    "        if train:\n",
    "            self.path = path_train\n",
    "            self.chr  = \"chr21_\"\n",
    "            self.datagen = self.__data_generation\n",
    "            \n",
    "        else:\n",
    "            self.path = path_test\n",
    "            self.chr  = \"chr22_\"\n",
    "            self.y_test = [self.labels[i] for i in self.list_IDs]\n",
    "            self.datagen = self.__data_generation_test\n",
    "        self.on_epoch_end()\n",
    "\n",
    "    def __len__(self):\n",
    "        'Denotes the number of batches per epoch'\n",
    "        return int(floor(len(self.list_IDs) / self.batch_size))\n",
    "\n",
    "    def __getitem__(self, index):\n",
    "        'Generate one batch of data'\n",
    "        # Generate indexes of the batch\n",
    "        indexes = self.indexes[index * self.batch_size : (index + 1) * self.batch_size]\n",
    "        # Find list of IDs\n",
    "        list_IDs_temp = [self.list_IDs[k] for k in indexes]\n",
    "        # Generate data\n",
    "        return self.datagen(list_IDs_temp)\n",
    "\n",
    "    def on_epoch_end(self):\n",
    "        'Updates indexes after each epoch'\n",
    "        self.indexes = np.arange(len(self.list_IDs))\n",
    "        if self.shuffle == True:\n",
    "            shuffle(self.indexes)\n",
    "\n",
    "    def __data_generation(self, list_IDs_temp):\n",
    "        'Generates data containing batch_size samples' # X : (n_samples, 299, 299, 5)\n",
    "        # Initialization\n",
    "        X = empty((self.batch_size, 299, 299, 5))\n",
    "        y = empty((self.batch_size, 3))\n",
    "\n",
    "        # Generate data\n",
    "        for i, ID in enumerate(list_IDs_temp):\n",
    "            filename = self.path + str(ID)[0:2] + \"/\" + self.chr + str(ID) + \".pgm\"\n",
    "            X[i, ] = read_pgm_ref(filename)\n",
    "            # Store class\n",
    "            y[i] = self.labels[ID]\n",
    "        return X, y\n",
    "    \n",
    "    def __data_generation_test(self, list_IDs_temp):\n",
    "        'Generates data containing batch_size samples' # X : (n_samples, 299, 299, 5)\n",
    "        # Initialization\n",
    "        X = empty((self.batch_size, 299, 299, 5))\n",
    "        # Generate data\n",
    "        for i, ID in enumerate(list_IDs_temp):\n",
    "            filename = self.path + str(ID)[0:2] + \"/\" + self.chr + str(ID) + \".pgm\"\n",
    "            X[i, ] = read_pgm_ref(filename)\n",
    "        return X"
   ]
  },
  {
   "cell_type": "code",
   "execution_count": 7,
   "metadata": {},
   "outputs": [],
   "source": [
    "my_batch_size = 64\n",
    "batch_train = DataGenerator(list_IDs=list_indx_train, labels=labels_chr21_encoded, batch_size=my_batch_size)\n",
    "batch_valid = DataGenerator(list_IDs=list_indx_valid, labels=labels_chr21_encoded, batch_size=my_batch_size)"
   ]
  },
  {
   "cell_type": "markdown",
   "metadata": {},
   "source": [
    "## Data storage and loading <a name=\"data_storage\"></a>"
   ]
  },
  {
   "cell_type": "markdown",
   "metadata": {},
   "source": [
    "### Load dataset in memory"
   ]
  },
  {
   "cell_type": "code",
   "execution_count": 6,
   "metadata": {
    "scrolled": true
   },
   "outputs": [
    {
     "name": "stdout",
     "output_type": "stream",
     "text": [
      "Size of dataset :  26742\n",
      "1000\n",
      "2000\n",
      "3000\n",
      "4000\n",
      "5000\n",
      "6000\n",
      "7000\n",
      "8000\n",
      "9000\n",
      "10000\n",
      "11000\n",
      "12000\n",
      "13000\n",
      "14000\n",
      "15000\n",
      "16000\n",
      "17000\n",
      "18000\n",
      "19000\n",
      "20000\n",
      "21000\n",
      "22000\n",
      "23000\n",
      "24000\n",
      "25000\n",
      "26000\n",
      "(26742, 299, 299, 5)\n",
      "(26742, 3)\n"
     ]
    }
   ],
   "source": [
    "X_train, y_train = load_data_set_from_pileups(path_train, list_indx_train_downsampled, labels_chr21_encoded)\n",
    "X_valid, y_valid = load_data_set_from_pileups(path_train, list_indx_valid_downsampled, labels_chr21_encoded)\n",
    "X_test, y_test   = load_data_set_from_pileups(path_test,  list_indx_test_downsampled,  labels_chr22_encoded, test=True)\n",
    "\n",
    "print(X_train.shape)\n",
    "print(y_train.shape)\n",
    "\n",
    "print(X_valid.shape)\n",
    "print(y_valid.shape)\n",
    "\n",
    "print(X_test.shape)\n",
    "print(y_test.shape)"
   ]
  },
  {
   "cell_type": "markdown",
   "metadata": {},
   "source": [
    "# Modeling phase <a name=\"model\"></a>"
   ]
  },
  {
   "cell_type": "markdown",
   "metadata": {},
   "source": [
    "## Get class weights to fight imbalanced dataset"
   ]
  },
  {
   "cell_type": "code",
   "execution_count": 20,
   "metadata": {},
   "outputs": [
    {
     "name": "stdout",
     "output_type": "stream",
     "text": [
      "{0: 0.4132900131507697, 1: 1.7265382626680454, 2: 834.78125}\n"
     ]
    }
   ],
   "source": [
    "class_weights_dict = get_class_weights2(np.array(list(labels_chr21_encoded.values())))\n",
    "print(class_weights_dict)"
   ]
  },
  {
   "cell_type": "markdown",
   "metadata": {},
   "source": [
    "## Architecture <a name=\"model_arch\"></a>"
   ]
  },
  {
   "cell_type": "markdown",
   "metadata": {},
   "source": [
    "### 1-cycle policy callback"
   ]
  },
  {
   "cell_type": "code",
   "execution_count": null,
   "metadata": {},
   "outputs": [],
   "source": [
    "sys.path.insert(0, './OneCycle')\n",
    "from clr import LRFinder, OneCycleLR\n",
    "\n",
    "N = X_train.shape[0] # number of points\n",
    "my_batch_size = 64\n",
    "min_lr = 0.001\n",
    "max_lr = 0.5\n",
    "\n",
    "lr_callback = LRFinder(N, my_batch_size,\n",
    "                       min_lr, max_lr,\n",
    "                       lr_scale='exp', save_dir='./OneCycle/')\n",
    "# Ex :\n",
    "# Ensure that number of epochs = 1 when calling fit()\n",
    "# model.compile(optimizer=\"Adam\", loss='categorical_crossentropy')\n",
    "# model.fit(X_train, y_train,  epochs=1, batch_size=128, callbacks=[lr_callback])\n",
    "\n",
    "# lr_callback.plot_schedule() -> visual inspection"
   ]
  },
  {
   "cell_type": "code",
   "execution_count": 2,
   "metadata": {},
   "outputs": [
    {
     "ename": "NameError",
     "evalue": "name 'Layer' is not defined",
     "output_type": "error",
     "traceback": [
      "\u001b[0;31m---------------------------------------------------------------------------\u001b[0m",
      "\u001b[0;31mNameError\u001b[0m                                 Traceback (most recent call last)",
      "\u001b[0;32m<ipython-input-2-4305562ba0d7>\u001b[0m in \u001b[0;36m<module>\u001b[0;34m\u001b[0m\n\u001b[0;32m----> 1\u001b[0;31m \u001b[0;32mclass\u001b[0m \u001b[0mSwish\u001b[0m\u001b[0;34m(\u001b[0m\u001b[0mLayer\u001b[0m\u001b[0;34m)\u001b[0m\u001b[0;34m:\u001b[0m\u001b[0;34m\u001b[0m\u001b[0m\n\u001b[0m\u001b[1;32m      2\u001b[0m \u001b[0;34m\u001b[0m\u001b[0m\n\u001b[1;32m      3\u001b[0m     \u001b[0;32mdef\u001b[0m \u001b[0m__init__\u001b[0m\u001b[0;34m(\u001b[0m\u001b[0mself\u001b[0m\u001b[0;34m,\u001b[0m \u001b[0;34m**\u001b[0m\u001b[0mkwargs\u001b[0m\u001b[0;34m)\u001b[0m\u001b[0;34m:\u001b[0m\u001b[0;34m\u001b[0m\u001b[0m\n\u001b[1;32m      4\u001b[0m         \u001b[0msuper\u001b[0m\u001b[0;34m(\u001b[0m\u001b[0mSwish\u001b[0m\u001b[0;34m,\u001b[0m \u001b[0mself\u001b[0m\u001b[0;34m)\u001b[0m\u001b[0;34m.\u001b[0m\u001b[0m__init__\u001b[0m\u001b[0;34m(\u001b[0m\u001b[0;34m**\u001b[0m\u001b[0mkwargs\u001b[0m\u001b[0;34m)\u001b[0m\u001b[0;34m\u001b[0m\u001b[0m\n\u001b[1;32m      5\u001b[0m         \u001b[0mself\u001b[0m\u001b[0;34m.\u001b[0m\u001b[0msupports_masking\u001b[0m \u001b[0;34m=\u001b[0m \u001b[0;32mTrue\u001b[0m\u001b[0;34m\u001b[0m\u001b[0m\n",
      "\u001b[0;31mNameError\u001b[0m: name 'Layer' is not defined"
     ]
    }
   ],
   "source": [
    "class Swish(Layer):\n",
    "\n",
    "    def __init__(self, **kwargs):\n",
    "        super(Swish, self).__init__(**kwargs)\n",
    "        self.supports_masking = True\n",
    "        self.__name__ = \"swish\"\n",
    "\n",
    "    def call(self, inputs, training=None):\n",
    "        return tf.nn.swish(inputs)\n",
    "\n",
    "\n",
    "def conv2d_bn_swish(x, filters, num_row, num_col, padding='same', \n",
    "              strides=(1, 1), name=\"first_block\"):\n",
    "    \"\"\"Utility function to apply conv + BN.\n",
    "    # Arguments\n",
    "        x: input tensor.\n",
    "        filters: filters in `Conv2D`.\n",
    "        num_row: height of the convolution kernel.\n",
    "        num_col: width of the convolution kernel.\n",
    "        padding: padding mode in `Conv2D`.\n",
    "        strides: strides in `Conv2D`.\n",
    "        name: name of the ops; will become `name + '_conv'`\n",
    "            for the convolution and `name + '_bn'` for the\n",
    "            batch norm layer.\n",
    "    # Returns\n",
    "        Output tensor after applying `Conv2D` and `BatchNormalization`.\n",
    "    \"\"\"\n",
    "    if name is not None:\n",
    "        bn_name = name + '_bn'\n",
    "        conv_name = name + '_conv'\n",
    "    else:\n",
    "        bn_name = None\n",
    "        conv_name = None\n",
    "    \n",
    "    x = Conv2D(filters, (num_row, num_col), strides=strides, padding=padding, name=conv_name)(x)\n",
    "    x = BatchNormalization(axis=3, scale=True, name=bn_name)(x)\n",
    "    x = Swish()(x)\n",
    "    return x"
   ]
  },
  {
   "cell_type": "code",
   "execution_count": 8,
   "metadata": {},
   "outputs": [],
   "source": [
    "def create_network(input_shape, keras_model):\n",
    "    '''Conv Network architecture, based on a keras model\n",
    "    '''\n",
    "    inp = Input(shape=input_shape)\n",
    "    \n",
    "    x = conv2d_bn_swish(inp, 5, 299, 1, name=\"first_block\")\n",
    "    x = conv2d_bn_swish(x, 5, 5, 5, name=\"first_block1\")\n",
    "    \n",
    "    base_model = keras_model(input_tensor=inp, weights=None, include_top=False, input_shape=input_shape, pooling=\"avg\")\n",
    "    \n",
    "    x = base_model.output\n",
    "    \n",
    "    x = Dense(1024, activation=Swish(), use_bias=True)(x)\n",
    "    x = Dropout(0.5)(x)\n",
    "    x = Dense(200, activation=Swish(), use_bias=True)(x)\n",
    "    x = Dropout(0.2)(x)\n",
    "    predictions = Dense(3, activation=\"softmax\")(x)\n",
    "    return Model(inp, predictions)"
   ]
  },
  {
   "cell_type": "markdown",
   "metadata": {},
   "source": [
    "# EfficientNet B2 <a name=\"ef_net\"></a>"
   ]
  },
  {
   "cell_type": "code",
   "execution_count": 11,
   "metadata": {},
   "outputs": [
    {
     "name": "stdout",
     "output_type": "stream",
     "text": [
      "min_size 32\n",
      "WARNING:tensorflow:From /opt/python3.5/lib/python3.5/site-packages/tensorflow/python/framework/function.py:987: calling Graph.create_op (from tensorflow.python.framework.ops) with compute_shapes is deprecated and will be removed in a future version.\n",
      "Instructions for updating:\n",
      "Shapes are always computed; don't use the compute_shapes as it has no effect.\n",
      "__________________________________________________________________________________________________\n",
      "Layer (type)                    Output Shape         Param #     Connected to                     \n",
      "==================================================================================================\n",
      "input_1 (InputLayer)            (None, 299, 299, 5)  0                                            \n",
      "__________________________________________________________________________________________________\n",
      "conv2d_1 (Conv2D)               (None, 150, 150, 32) 1440        input_1[0][0]                    \n",
      "__________________________________________________________________________________________________\n",
      "batch_normalization_1 (BatchNor (None, 150, 150, 32) 128         conv2d_1[0][0]                   \n",
      "__________________________________________________________________________________________________\n",
      "swish_1 (Swish)                 (None, 150, 150, 32) 0           batch_normalization_1[0][0]      \n",
      "__________________________________________________________________________________________________\n",
      "depthwise_conv2d_1 (DepthwiseCo (None, 150, 150, 32) 288         swish_1[0][0]                    \n",
      "__________________________________________________________________________________________________\n",
      "batch_normalization_2 (BatchNor (None, 150, 150, 32) 128         depthwise_conv2d_1[0][0]         \n",
      "__________________________________________________________________________________________________\n",
      "swish_2 (Swish)                 (None, 150, 150, 32) 0           batch_normalization_2[0][0]      \n",
      "__________________________________________________________________________________________________\n",
      "lambda_1 (Lambda)               (None, 1, 1, 32)     0           swish_2[0][0]                    \n",
      "__________________________________________________________________________________________________\n",
      "conv2d_2 (Conv2D)               (None, 1, 1, 8)      264         lambda_1[0][0]                   \n",
      "__________________________________________________________________________________________________\n",
      "swish_3 (Swish)                 (None, 1, 1, 8)      0           conv2d_2[0][0]                   \n",
      "__________________________________________________________________________________________________\n",
      "conv2d_3 (Conv2D)               (None, 1, 1, 32)     288         swish_3[0][0]                    \n",
      "__________________________________________________________________________________________________\n",
      "activation_1 (Activation)       (None, 1, 1, 32)     0           conv2d_3[0][0]                   \n",
      "__________________________________________________________________________________________________\n",
      "multiply_1 (Multiply)           (None, 150, 150, 32) 0           activation_1[0][0]               \n",
      "                                                                 swish_2[0][0]                    \n",
      "__________________________________________________________________________________________________\n",
      "conv2d_4 (Conv2D)               (None, 150, 150, 16) 512         multiply_1[0][0]                 \n",
      "__________________________________________________________________________________________________\n",
      "batch_normalization_3 (BatchNor (None, 150, 150, 16) 64          conv2d_4[0][0]                   \n",
      "__________________________________________________________________________________________________\n",
      "depthwise_conv2d_2 (DepthwiseCo (None, 150, 150, 16) 144         batch_normalization_3[0][0]      \n",
      "__________________________________________________________________________________________________\n",
      "batch_normalization_4 (BatchNor (None, 150, 150, 16) 64          depthwise_conv2d_2[0][0]         \n",
      "__________________________________________________________________________________________________\n",
      "swish_4 (Swish)                 (None, 150, 150, 16) 0           batch_normalization_4[0][0]      \n",
      "__________________________________________________________________________________________________\n",
      "lambda_2 (Lambda)               (None, 1, 1, 16)     0           swish_4[0][0]                    \n",
      "__________________________________________________________________________________________________\n",
      "conv2d_5 (Conv2D)               (None, 1, 1, 4)      68          lambda_2[0][0]                   \n",
      "__________________________________________________________________________________________________\n",
      "swish_5 (Swish)                 (None, 1, 1, 4)      0           conv2d_5[0][0]                   \n",
      "__________________________________________________________________________________________________\n",
      "conv2d_6 (Conv2D)               (None, 1, 1, 16)     80          swish_5[0][0]                    \n",
      "__________________________________________________________________________________________________\n",
      "activation_2 (Activation)       (None, 1, 1, 16)     0           conv2d_6[0][0]                   \n",
      "__________________________________________________________________________________________________\n",
      "multiply_2 (Multiply)           (None, 150, 150, 16) 0           activation_2[0][0]               \n",
      "                                                                 swish_4[0][0]                    \n",
      "__________________________________________________________________________________________________\n",
      "conv2d_7 (Conv2D)               (None, 150, 150, 16) 256         multiply_2[0][0]                 \n",
      "__________________________________________________________________________________________________\n",
      "batch_normalization_5 (BatchNor (None, 150, 150, 16) 64          conv2d_7[0][0]                   \n",
      "__________________________________________________________________________________________________\n",
      "add_1 (Add)                     (None, 150, 150, 16) 0           batch_normalization_5[0][0]      \n",
      "                                                                 batch_normalization_3[0][0]      \n",
      "__________________________________________________________________________________________________\n",
      "conv2d_8 (Conv2D)               (None, 150, 150, 96) 1536        add_1[0][0]                      \n",
      "__________________________________________________________________________________________________\n",
      "batch_normalization_6 (BatchNor (None, 150, 150, 96) 384         conv2d_8[0][0]                   \n",
      "__________________________________________________________________________________________________\n",
      "swish_6 (Swish)                 (None, 150, 150, 96) 0           batch_normalization_6[0][0]      \n",
      "__________________________________________________________________________________________________\n",
      "depthwise_conv2d_3 (DepthwiseCo (None, 75, 75, 96)   864         swish_6[0][0]                    \n",
      "__________________________________________________________________________________________________\n",
      "batch_normalization_7 (BatchNor (None, 75, 75, 96)   384         depthwise_conv2d_3[0][0]         \n",
      "__________________________________________________________________________________________________\n",
      "swish_7 (Swish)                 (None, 75, 75, 96)   0           batch_normalization_7[0][0]      \n",
      "__________________________________________________________________________________________________\n",
      "lambda_3 (Lambda)               (None, 1, 1, 96)     0           swish_7[0][0]                    \n",
      "__________________________________________________________________________________________________\n",
      "conv2d_9 (Conv2D)               (None, 1, 1, 4)      388         lambda_3[0][0]                   \n",
      "__________________________________________________________________________________________________\n",
      "swish_8 (Swish)                 (None, 1, 1, 4)      0           conv2d_9[0][0]                   \n",
      "__________________________________________________________________________________________________\n",
      "conv2d_10 (Conv2D)              (None, 1, 1, 96)     480         swish_8[0][0]                    \n",
      "__________________________________________________________________________________________________\n",
      "activation_3 (Activation)       (None, 1, 1, 96)     0           conv2d_10[0][0]                  \n",
      "__________________________________________________________________________________________________\n",
      "multiply_3 (Multiply)           (None, 75, 75, 96)   0           activation_3[0][0]               \n",
      "                                                                 swish_7[0][0]                    \n",
      "__________________________________________________________________________________________________\n",
      "conv2d_11 (Conv2D)              (None, 75, 75, 24)   2304        multiply_3[0][0]                 \n",
      "__________________________________________________________________________________________________\n",
      "batch_normalization_8 (BatchNor (None, 75, 75, 24)   96          conv2d_11[0][0]                  \n",
      "__________________________________________________________________________________________________\n",
      "conv2d_12 (Conv2D)              (None, 75, 75, 144)  3456        batch_normalization_8[0][0]      \n",
      "__________________________________________________________________________________________________\n",
      "batch_normalization_9 (BatchNor (None, 75, 75, 144)  576         conv2d_12[0][0]                  \n",
      "__________________________________________________________________________________________________\n",
      "swish_9 (Swish)                 (None, 75, 75, 144)  0           batch_normalization_9[0][0]      \n",
      "__________________________________________________________________________________________________\n",
      "depthwise_conv2d_4 (DepthwiseCo (None, 75, 75, 144)  1296        swish_9[0][0]                    \n",
      "__________________________________________________________________________________________________\n",
      "batch_normalization_10 (BatchNo (None, 75, 75, 144)  576         depthwise_conv2d_4[0][0]         \n",
      "__________________________________________________________________________________________________\n",
      "swish_10 (Swish)                (None, 75, 75, 144)  0           batch_normalization_10[0][0]     \n",
      "__________________________________________________________________________________________________\n",
      "lambda_4 (Lambda)               (None, 1, 1, 144)    0           swish_10[0][0]                   \n",
      "__________________________________________________________________________________________________\n",
      "conv2d_13 (Conv2D)              (None, 1, 1, 6)      870         lambda_4[0][0]                   \n",
      "__________________________________________________________________________________________________\n",
      "swish_11 (Swish)                (None, 1, 1, 6)      0           conv2d_13[0][0]                  \n",
      "__________________________________________________________________________________________________\n",
      "conv2d_14 (Conv2D)              (None, 1, 1, 144)    1008        swish_11[0][0]                   \n",
      "__________________________________________________________________________________________________\n",
      "activation_4 (Activation)       (None, 1, 1, 144)    0           conv2d_14[0][0]                  \n",
      "__________________________________________________________________________________________________\n",
      "multiply_4 (Multiply)           (None, 75, 75, 144)  0           activation_4[0][0]               \n",
      "                                                                 swish_10[0][0]                   \n",
      "__________________________________________________________________________________________________\n",
      "conv2d_15 (Conv2D)              (None, 75, 75, 24)   3456        multiply_4[0][0]                 \n",
      "__________________________________________________________________________________________________\n",
      "batch_normalization_11 (BatchNo (None, 75, 75, 24)   96          conv2d_15[0][0]                  \n",
      "__________________________________________________________________________________________________\n",
      "add_2 (Add)                     (None, 75, 75, 24)   0           batch_normalization_11[0][0]     \n",
      "                                                                 batch_normalization_8[0][0]      \n",
      "__________________________________________________________________________________________________\n",
      "conv2d_16 (Conv2D)              (None, 75, 75, 144)  3456        add_2[0][0]                      \n",
      "__________________________________________________________________________________________________\n",
      "batch_normalization_12 (BatchNo (None, 75, 75, 144)  576         conv2d_16[0][0]                  \n",
      "__________________________________________________________________________________________________\n",
      "swish_12 (Swish)                (None, 75, 75, 144)  0           batch_normalization_12[0][0]     \n",
      "__________________________________________________________________________________________________\n",
      "depthwise_conv2d_5 (DepthwiseCo (None, 75, 75, 144)  1296        swish_12[0][0]                   \n",
      "__________________________________________________________________________________________________\n",
      "batch_normalization_13 (BatchNo (None, 75, 75, 144)  576         depthwise_conv2d_5[0][0]         \n",
      "__________________________________________________________________________________________________\n",
      "swish_13 (Swish)                (None, 75, 75, 144)  0           batch_normalization_13[0][0]     \n",
      "__________________________________________________________________________________________________\n",
      "lambda_5 (Lambda)               (None, 1, 1, 144)    0           swish_13[0][0]                   \n",
      "__________________________________________________________________________________________________\n",
      "conv2d_17 (Conv2D)              (None, 1, 1, 6)      870         lambda_5[0][0]                   \n",
      "__________________________________________________________________________________________________\n",
      "swish_14 (Swish)                (None, 1, 1, 6)      0           conv2d_17[0][0]                  \n",
      "__________________________________________________________________________________________________\n",
      "conv2d_18 (Conv2D)              (None, 1, 1, 144)    1008        swish_14[0][0]                   \n",
      "__________________________________________________________________________________________________\n",
      "activation_5 (Activation)       (None, 1, 1, 144)    0           conv2d_18[0][0]                  \n",
      "__________________________________________________________________________________________________\n",
      "multiply_5 (Multiply)           (None, 75, 75, 144)  0           activation_5[0][0]               \n",
      "                                                                 swish_13[0][0]                   \n",
      "__________________________________________________________________________________________________\n",
      "conv2d_19 (Conv2D)              (None, 75, 75, 24)   3456        multiply_5[0][0]                 \n",
      "__________________________________________________________________________________________________\n",
      "batch_normalization_14 (BatchNo (None, 75, 75, 24)   96          conv2d_19[0][0]                  \n",
      "__________________________________________________________________________________________________\n",
      "add_3 (Add)                     (None, 75, 75, 24)   0           batch_normalization_14[0][0]     \n",
      "                                                                 add_2[0][0]                      \n",
      "__________________________________________________________________________________________________\n",
      "conv2d_20 (Conv2D)              (None, 75, 75, 144)  3456        add_3[0][0]                      \n",
      "__________________________________________________________________________________________________\n",
      "batch_normalization_15 (BatchNo (None, 75, 75, 144)  576         conv2d_20[0][0]                  \n",
      "__________________________________________________________________________________________________\n",
      "swish_15 (Swish)                (None, 75, 75, 144)  0           batch_normalization_15[0][0]     \n",
      "__________________________________________________________________________________________________\n",
      "depthwise_conv2d_6 (DepthwiseCo (None, 38, 38, 144)  3600        swish_15[0][0]                   \n",
      "__________________________________________________________________________________________________\n",
      "batch_normalization_16 (BatchNo (None, 38, 38, 144)  576         depthwise_conv2d_6[0][0]         \n",
      "__________________________________________________________________________________________________\n",
      "swish_16 (Swish)                (None, 38, 38, 144)  0           batch_normalization_16[0][0]     \n",
      "__________________________________________________________________________________________________\n",
      "lambda_6 (Lambda)               (None, 1, 1, 144)    0           swish_16[0][0]                   \n",
      "__________________________________________________________________________________________________\n",
      "conv2d_21 (Conv2D)              (None, 1, 1, 6)      870         lambda_6[0][0]                   \n",
      "__________________________________________________________________________________________________\n",
      "swish_17 (Swish)                (None, 1, 1, 6)      0           conv2d_21[0][0]                  \n",
      "__________________________________________________________________________________________________\n",
      "conv2d_22 (Conv2D)              (None, 1, 1, 144)    1008        swish_17[0][0]                   \n",
      "__________________________________________________________________________________________________\n",
      "activation_6 (Activation)       (None, 1, 1, 144)    0           conv2d_22[0][0]                  \n",
      "__________________________________________________________________________________________________\n",
      "multiply_6 (Multiply)           (None, 38, 38, 144)  0           activation_6[0][0]               \n",
      "                                                                 swish_16[0][0]                   \n",
      "__________________________________________________________________________________________________\n",
      "conv2d_23 (Conv2D)              (None, 38, 38, 48)   6912        multiply_6[0][0]                 \n",
      "__________________________________________________________________________________________________\n",
      "batch_normalization_17 (BatchNo (None, 38, 38, 48)   192         conv2d_23[0][0]                  \n",
      "__________________________________________________________________________________________________\n",
      "conv2d_24 (Conv2D)              (None, 38, 38, 288)  13824       batch_normalization_17[0][0]     \n",
      "__________________________________________________________________________________________________\n",
      "batch_normalization_18 (BatchNo (None, 38, 38, 288)  1152        conv2d_24[0][0]                  \n",
      "__________________________________________________________________________________________________\n",
      "swish_18 (Swish)                (None, 38, 38, 288)  0           batch_normalization_18[0][0]     \n",
      "__________________________________________________________________________________________________\n",
      "depthwise_conv2d_7 (DepthwiseCo (None, 38, 38, 288)  7200        swish_18[0][0]                   \n",
      "__________________________________________________________________________________________________\n",
      "batch_normalization_19 (BatchNo (None, 38, 38, 288)  1152        depthwise_conv2d_7[0][0]         \n",
      "__________________________________________________________________________________________________\n",
      "swish_19 (Swish)                (None, 38, 38, 288)  0           batch_normalization_19[0][0]     \n",
      "__________________________________________________________________________________________________\n",
      "lambda_7 (Lambda)               (None, 1, 1, 288)    0           swish_19[0][0]                   \n",
      "__________________________________________________________________________________________________\n",
      "conv2d_25 (Conv2D)              (None, 1, 1, 12)     3468        lambda_7[0][0]                   \n",
      "__________________________________________________________________________________________________\n",
      "swish_20 (Swish)                (None, 1, 1, 12)     0           conv2d_25[0][0]                  \n",
      "__________________________________________________________________________________________________\n",
      "conv2d_26 (Conv2D)              (None, 1, 1, 288)    3744        swish_20[0][0]                   \n",
      "__________________________________________________________________________________________________\n",
      "activation_7 (Activation)       (None, 1, 1, 288)    0           conv2d_26[0][0]                  \n",
      "__________________________________________________________________________________________________\n",
      "multiply_7 (Multiply)           (None, 38, 38, 288)  0           activation_7[0][0]               \n",
      "                                                                 swish_19[0][0]                   \n",
      "__________________________________________________________________________________________________\n",
      "conv2d_27 (Conv2D)              (None, 38, 38, 48)   13824       multiply_7[0][0]                 \n",
      "__________________________________________________________________________________________________\n",
      "batch_normalization_20 (BatchNo (None, 38, 38, 48)   192         conv2d_27[0][0]                  \n",
      "__________________________________________________________________________________________________\n",
      "add_4 (Add)                     (None, 38, 38, 48)   0           batch_normalization_20[0][0]     \n",
      "                                                                 batch_normalization_17[0][0]     \n",
      "__________________________________________________________________________________________________\n",
      "conv2d_28 (Conv2D)              (None, 38, 38, 288)  13824       add_4[0][0]                      \n",
      "__________________________________________________________________________________________________\n",
      "batch_normalization_21 (BatchNo (None, 38, 38, 288)  1152        conv2d_28[0][0]                  \n",
      "__________________________________________________________________________________________________\n",
      "swish_21 (Swish)                (None, 38, 38, 288)  0           batch_normalization_21[0][0]     \n",
      "__________________________________________________________________________________________________\n",
      "depthwise_conv2d_8 (DepthwiseCo (None, 38, 38, 288)  7200        swish_21[0][0]                   \n",
      "__________________________________________________________________________________________________\n",
      "batch_normalization_22 (BatchNo (None, 38, 38, 288)  1152        depthwise_conv2d_8[0][0]         \n",
      "__________________________________________________________________________________________________\n",
      "swish_22 (Swish)                (None, 38, 38, 288)  0           batch_normalization_22[0][0]     \n",
      "__________________________________________________________________________________________________\n",
      "lambda_8 (Lambda)               (None, 1, 1, 288)    0           swish_22[0][0]                   \n",
      "__________________________________________________________________________________________________\n",
      "conv2d_29 (Conv2D)              (None, 1, 1, 12)     3468        lambda_8[0][0]                   \n",
      "__________________________________________________________________________________________________\n",
      "swish_23 (Swish)                (None, 1, 1, 12)     0           conv2d_29[0][0]                  \n",
      "__________________________________________________________________________________________________\n",
      "conv2d_30 (Conv2D)              (None, 1, 1, 288)    3744        swish_23[0][0]                   \n",
      "__________________________________________________________________________________________________\n",
      "activation_8 (Activation)       (None, 1, 1, 288)    0           conv2d_30[0][0]                  \n",
      "__________________________________________________________________________________________________\n",
      "multiply_8 (Multiply)           (None, 38, 38, 288)  0           activation_8[0][0]               \n",
      "                                                                 swish_22[0][0]                   \n",
      "__________________________________________________________________________________________________\n",
      "conv2d_31 (Conv2D)              (None, 38, 38, 48)   13824       multiply_8[0][0]                 \n",
      "__________________________________________________________________________________________________\n",
      "batch_normalization_23 (BatchNo (None, 38, 38, 48)   192         conv2d_31[0][0]                  \n",
      "__________________________________________________________________________________________________\n",
      "add_5 (Add)                     (None, 38, 38, 48)   0           batch_normalization_23[0][0]     \n",
      "                                                                 add_4[0][0]                      \n",
      "__________________________________________________________________________________________________\n",
      "conv2d_32 (Conv2D)              (None, 38, 38, 288)  13824       add_5[0][0]                      \n",
      "__________________________________________________________________________________________________\n",
      "batch_normalization_24 (BatchNo (None, 38, 38, 288)  1152        conv2d_32[0][0]                  \n",
      "__________________________________________________________________________________________________\n",
      "swish_24 (Swish)                (None, 38, 38, 288)  0           batch_normalization_24[0][0]     \n",
      "__________________________________________________________________________________________________\n",
      "depthwise_conv2d_9 (DepthwiseCo (None, 19, 19, 288)  2592        swish_24[0][0]                   \n",
      "__________________________________________________________________________________________________\n",
      "batch_normalization_25 (BatchNo (None, 19, 19, 288)  1152        depthwise_conv2d_9[0][0]         \n",
      "__________________________________________________________________________________________________\n",
      "swish_25 (Swish)                (None, 19, 19, 288)  0           batch_normalization_25[0][0]     \n",
      "__________________________________________________________________________________________________\n",
      "lambda_9 (Lambda)               (None, 1, 1, 288)    0           swish_25[0][0]                   \n",
      "__________________________________________________________________________________________________\n",
      "conv2d_33 (Conv2D)              (None, 1, 1, 12)     3468        lambda_9[0][0]                   \n",
      "__________________________________________________________________________________________________\n",
      "swish_26 (Swish)                (None, 1, 1, 12)     0           conv2d_33[0][0]                  \n",
      "__________________________________________________________________________________________________\n",
      "conv2d_34 (Conv2D)              (None, 1, 1, 288)    3744        swish_26[0][0]                   \n",
      "__________________________________________________________________________________________________\n",
      "activation_9 (Activation)       (None, 1, 1, 288)    0           conv2d_34[0][0]                  \n",
      "__________________________________________________________________________________________________\n",
      "multiply_9 (Multiply)           (None, 19, 19, 288)  0           activation_9[0][0]               \n",
      "                                                                 swish_25[0][0]                   \n",
      "__________________________________________________________________________________________________\n",
      "conv2d_35 (Conv2D)              (None, 19, 19, 88)   25344       multiply_9[0][0]                 \n",
      "__________________________________________________________________________________________________\n",
      "batch_normalization_26 (BatchNo (None, 19, 19, 88)   352         conv2d_35[0][0]                  \n",
      "__________________________________________________________________________________________________\n",
      "conv2d_36 (Conv2D)              (None, 19, 19, 528)  46464       batch_normalization_26[0][0]     \n",
      "__________________________________________________________________________________________________\n",
      "batch_normalization_27 (BatchNo (None, 19, 19, 528)  2112        conv2d_36[0][0]                  \n",
      "__________________________________________________________________________________________________\n",
      "swish_27 (Swish)                (None, 19, 19, 528)  0           batch_normalization_27[0][0]     \n",
      "__________________________________________________________________________________________________\n",
      "depthwise_conv2d_10 (DepthwiseC (None, 19, 19, 528)  4752        swish_27[0][0]                   \n",
      "__________________________________________________________________________________________________\n",
      "batch_normalization_28 (BatchNo (None, 19, 19, 528)  2112        depthwise_conv2d_10[0][0]        \n",
      "__________________________________________________________________________________________________\n",
      "swish_28 (Swish)                (None, 19, 19, 528)  0           batch_normalization_28[0][0]     \n",
      "__________________________________________________________________________________________________\n",
      "lambda_10 (Lambda)              (None, 1, 1, 528)    0           swish_28[0][0]                   \n",
      "__________________________________________________________________________________________________\n",
      "conv2d_37 (Conv2D)              (None, 1, 1, 22)     11638       lambda_10[0][0]                  \n",
      "__________________________________________________________________________________________________\n",
      "swish_29 (Swish)                (None, 1, 1, 22)     0           conv2d_37[0][0]                  \n",
      "__________________________________________________________________________________________________\n",
      "conv2d_38 (Conv2D)              (None, 1, 1, 528)    12144       swish_29[0][0]                   \n",
      "__________________________________________________________________________________________________\n",
      "activation_10 (Activation)      (None, 1, 1, 528)    0           conv2d_38[0][0]                  \n",
      "__________________________________________________________________________________________________\n",
      "multiply_10 (Multiply)          (None, 19, 19, 528)  0           activation_10[0][0]              \n",
      "                                                                 swish_28[0][0]                   \n",
      "__________________________________________________________________________________________________\n",
      "conv2d_39 (Conv2D)              (None, 19, 19, 88)   46464       multiply_10[0][0]                \n",
      "__________________________________________________________________________________________________\n",
      "batch_normalization_29 (BatchNo (None, 19, 19, 88)   352         conv2d_39[0][0]                  \n",
      "__________________________________________________________________________________________________\n",
      "add_6 (Add)                     (None, 19, 19, 88)   0           batch_normalization_29[0][0]     \n",
      "                                                                 batch_normalization_26[0][0]     \n",
      "__________________________________________________________________________________________________\n",
      "conv2d_40 (Conv2D)              (None, 19, 19, 528)  46464       add_6[0][0]                      \n",
      "__________________________________________________________________________________________________\n",
      "batch_normalization_30 (BatchNo (None, 19, 19, 528)  2112        conv2d_40[0][0]                  \n",
      "__________________________________________________________________________________________________\n",
      "swish_30 (Swish)                (None, 19, 19, 528)  0           batch_normalization_30[0][0]     \n",
      "__________________________________________________________________________________________________\n",
      "depthwise_conv2d_11 (DepthwiseC (None, 19, 19, 528)  4752        swish_30[0][0]                   \n",
      "__________________________________________________________________________________________________\n",
      "batch_normalization_31 (BatchNo (None, 19, 19, 528)  2112        depthwise_conv2d_11[0][0]        \n",
      "__________________________________________________________________________________________________\n",
      "swish_31 (Swish)                (None, 19, 19, 528)  0           batch_normalization_31[0][0]     \n",
      "__________________________________________________________________________________________________\n",
      "lambda_11 (Lambda)              (None, 1, 1, 528)    0           swish_31[0][0]                   \n",
      "__________________________________________________________________________________________________\n",
      "conv2d_41 (Conv2D)              (None, 1, 1, 22)     11638       lambda_11[0][0]                  \n",
      "__________________________________________________________________________________________________\n",
      "swish_32 (Swish)                (None, 1, 1, 22)     0           conv2d_41[0][0]                  \n",
      "__________________________________________________________________________________________________\n",
      "conv2d_42 (Conv2D)              (None, 1, 1, 528)    12144       swish_32[0][0]                   \n",
      "__________________________________________________________________________________________________\n",
      "activation_11 (Activation)      (None, 1, 1, 528)    0           conv2d_42[0][0]                  \n",
      "__________________________________________________________________________________________________\n",
      "multiply_11 (Multiply)          (None, 19, 19, 528)  0           activation_11[0][0]              \n",
      "                                                                 swish_31[0][0]                   \n",
      "__________________________________________________________________________________________________\n",
      "conv2d_43 (Conv2D)              (None, 19, 19, 88)   46464       multiply_11[0][0]                \n",
      "__________________________________________________________________________________________________\n",
      "batch_normalization_32 (BatchNo (None, 19, 19, 88)   352         conv2d_43[0][0]                  \n",
      "__________________________________________________________________________________________________\n",
      "add_7 (Add)                     (None, 19, 19, 88)   0           batch_normalization_32[0][0]     \n",
      "                                                                 add_6[0][0]                      \n",
      "__________________________________________________________________________________________________\n",
      "conv2d_44 (Conv2D)              (None, 19, 19, 528)  46464       add_7[0][0]                      \n",
      "__________________________________________________________________________________________________\n",
      "batch_normalization_33 (BatchNo (None, 19, 19, 528)  2112        conv2d_44[0][0]                  \n",
      "__________________________________________________________________________________________________\n",
      "swish_33 (Swish)                (None, 19, 19, 528)  0           batch_normalization_33[0][0]     \n",
      "__________________________________________________________________________________________________\n",
      "depthwise_conv2d_12 (DepthwiseC (None, 19, 19, 528)  4752        swish_33[0][0]                   \n",
      "__________________________________________________________________________________________________\n",
      "batch_normalization_34 (BatchNo (None, 19, 19, 528)  2112        depthwise_conv2d_12[0][0]        \n",
      "__________________________________________________________________________________________________\n",
      "swish_34 (Swish)                (None, 19, 19, 528)  0           batch_normalization_34[0][0]     \n",
      "__________________________________________________________________________________________________\n",
      "lambda_12 (Lambda)              (None, 1, 1, 528)    0           swish_34[0][0]                   \n",
      "__________________________________________________________________________________________________\n",
      "conv2d_45 (Conv2D)              (None, 1, 1, 22)     11638       lambda_12[0][0]                  \n",
      "__________________________________________________________________________________________________\n",
      "swish_35 (Swish)                (None, 1, 1, 22)     0           conv2d_45[0][0]                  \n",
      "__________________________________________________________________________________________________\n",
      "conv2d_46 (Conv2D)              (None, 1, 1, 528)    12144       swish_35[0][0]                   \n",
      "__________________________________________________________________________________________________\n",
      "activation_12 (Activation)      (None, 1, 1, 528)    0           conv2d_46[0][0]                  \n",
      "__________________________________________________________________________________________________\n",
      "multiply_12 (Multiply)          (None, 19, 19, 528)  0           activation_12[0][0]              \n",
      "                                                                 swish_34[0][0]                   \n",
      "__________________________________________________________________________________________________\n",
      "conv2d_47 (Conv2D)              (None, 19, 19, 88)   46464       multiply_12[0][0]                \n",
      "__________________________________________________________________________________________________\n",
      "batch_normalization_35 (BatchNo (None, 19, 19, 88)   352         conv2d_47[0][0]                  \n",
      "__________________________________________________________________________________________________\n",
      "add_8 (Add)                     (None, 19, 19, 88)   0           batch_normalization_35[0][0]     \n",
      "                                                                 add_7[0][0]                      \n",
      "__________________________________________________________________________________________________\n",
      "conv2d_48 (Conv2D)              (None, 19, 19, 528)  46464       add_8[0][0]                      \n",
      "__________________________________________________________________________________________________\n",
      "batch_normalization_36 (BatchNo (None, 19, 19, 528)  2112        conv2d_48[0][0]                  \n",
      "__________________________________________________________________________________________________\n",
      "swish_36 (Swish)                (None, 19, 19, 528)  0           batch_normalization_36[0][0]     \n",
      "__________________________________________________________________________________________________\n",
      "depthwise_conv2d_13 (DepthwiseC (None, 19, 19, 528)  13200       swish_36[0][0]                   \n",
      "__________________________________________________________________________________________________\n",
      "batch_normalization_37 (BatchNo (None, 19, 19, 528)  2112        depthwise_conv2d_13[0][0]        \n",
      "__________________________________________________________________________________________________\n",
      "swish_37 (Swish)                (None, 19, 19, 528)  0           batch_normalization_37[0][0]     \n",
      "__________________________________________________________________________________________________\n",
      "lambda_13 (Lambda)              (None, 1, 1, 528)    0           swish_37[0][0]                   \n",
      "__________________________________________________________________________________________________\n",
      "conv2d_49 (Conv2D)              (None, 1, 1, 22)     11638       lambda_13[0][0]                  \n",
      "__________________________________________________________________________________________________\n",
      "swish_38 (Swish)                (None, 1, 1, 22)     0           conv2d_49[0][0]                  \n",
      "__________________________________________________________________________________________________\n",
      "conv2d_50 (Conv2D)              (None, 1, 1, 528)    12144       swish_38[0][0]                   \n",
      "__________________________________________________________________________________________________\n",
      "activation_13 (Activation)      (None, 1, 1, 528)    0           conv2d_50[0][0]                  \n",
      "__________________________________________________________________________________________________\n",
      "multiply_13 (Multiply)          (None, 19, 19, 528)  0           activation_13[0][0]              \n",
      "                                                                 swish_37[0][0]                   \n",
      "__________________________________________________________________________________________________\n",
      "conv2d_51 (Conv2D)              (None, 19, 19, 120)  63360       multiply_13[0][0]                \n",
      "__________________________________________________________________________________________________\n",
      "batch_normalization_38 (BatchNo (None, 19, 19, 120)  480         conv2d_51[0][0]                  \n",
      "__________________________________________________________________________________________________\n",
      "conv2d_52 (Conv2D)              (None, 19, 19, 720)  86400       batch_normalization_38[0][0]     \n",
      "__________________________________________________________________________________________________\n",
      "batch_normalization_39 (BatchNo (None, 19, 19, 720)  2880        conv2d_52[0][0]                  \n",
      "__________________________________________________________________________________________________\n",
      "swish_39 (Swish)                (None, 19, 19, 720)  0           batch_normalization_39[0][0]     \n",
      "__________________________________________________________________________________________________\n",
      "depthwise_conv2d_14 (DepthwiseC (None, 19, 19, 720)  18000       swish_39[0][0]                   \n",
      "__________________________________________________________________________________________________\n",
      "batch_normalization_40 (BatchNo (None, 19, 19, 720)  2880        depthwise_conv2d_14[0][0]        \n",
      "__________________________________________________________________________________________________\n",
      "swish_40 (Swish)                (None, 19, 19, 720)  0           batch_normalization_40[0][0]     \n",
      "__________________________________________________________________________________________________\n",
      "lambda_14 (Lambda)              (None, 1, 1, 720)    0           swish_40[0][0]                   \n",
      "__________________________________________________________________________________________________\n",
      "conv2d_53 (Conv2D)              (None, 1, 1, 30)     21630       lambda_14[0][0]                  \n",
      "__________________________________________________________________________________________________\n",
      "swish_41 (Swish)                (None, 1, 1, 30)     0           conv2d_53[0][0]                  \n",
      "__________________________________________________________________________________________________\n",
      "conv2d_54 (Conv2D)              (None, 1, 1, 720)    22320       swish_41[0][0]                   \n",
      "__________________________________________________________________________________________________\n",
      "activation_14 (Activation)      (None, 1, 1, 720)    0           conv2d_54[0][0]                  \n",
      "__________________________________________________________________________________________________\n",
      "multiply_14 (Multiply)          (None, 19, 19, 720)  0           activation_14[0][0]              \n",
      "                                                                 swish_40[0][0]                   \n",
      "__________________________________________________________________________________________________\n",
      "conv2d_55 (Conv2D)              (None, 19, 19, 120)  86400       multiply_14[0][0]                \n",
      "__________________________________________________________________________________________________\n",
      "batch_normalization_41 (BatchNo (None, 19, 19, 120)  480         conv2d_55[0][0]                  \n",
      "__________________________________________________________________________________________________\n",
      "add_9 (Add)                     (None, 19, 19, 120)  0           batch_normalization_41[0][0]     \n",
      "                                                                 batch_normalization_38[0][0]     \n",
      "__________________________________________________________________________________________________\n",
      "conv2d_56 (Conv2D)              (None, 19, 19, 720)  86400       add_9[0][0]                      \n",
      "__________________________________________________________________________________________________\n",
      "batch_normalization_42 (BatchNo (None, 19, 19, 720)  2880        conv2d_56[0][0]                  \n",
      "__________________________________________________________________________________________________\n",
      "swish_42 (Swish)                (None, 19, 19, 720)  0           batch_normalization_42[0][0]     \n",
      "__________________________________________________________________________________________________\n",
      "depthwise_conv2d_15 (DepthwiseC (None, 19, 19, 720)  18000       swish_42[0][0]                   \n",
      "__________________________________________________________________________________________________\n",
      "batch_normalization_43 (BatchNo (None, 19, 19, 720)  2880        depthwise_conv2d_15[0][0]        \n",
      "__________________________________________________________________________________________________\n",
      "swish_43 (Swish)                (None, 19, 19, 720)  0           batch_normalization_43[0][0]     \n",
      "__________________________________________________________________________________________________\n",
      "lambda_15 (Lambda)              (None, 1, 1, 720)    0           swish_43[0][0]                   \n",
      "__________________________________________________________________________________________________\n",
      "conv2d_57 (Conv2D)              (None, 1, 1, 30)     21630       lambda_15[0][0]                  \n",
      "__________________________________________________________________________________________________\n",
      "swish_44 (Swish)                (None, 1, 1, 30)     0           conv2d_57[0][0]                  \n",
      "__________________________________________________________________________________________________\n",
      "conv2d_58 (Conv2D)              (None, 1, 1, 720)    22320       swish_44[0][0]                   \n",
      "__________________________________________________________________________________________________\n",
      "activation_15 (Activation)      (None, 1, 1, 720)    0           conv2d_58[0][0]                  \n",
      "__________________________________________________________________________________________________\n",
      "multiply_15 (Multiply)          (None, 19, 19, 720)  0           activation_15[0][0]              \n",
      "                                                                 swish_43[0][0]                   \n",
      "__________________________________________________________________________________________________\n",
      "conv2d_59 (Conv2D)              (None, 19, 19, 120)  86400       multiply_15[0][0]                \n",
      "__________________________________________________________________________________________________\n",
      "batch_normalization_44 (BatchNo (None, 19, 19, 120)  480         conv2d_59[0][0]                  \n",
      "__________________________________________________________________________________________________\n",
      "add_10 (Add)                    (None, 19, 19, 120)  0           batch_normalization_44[0][0]     \n",
      "                                                                 add_9[0][0]                      \n",
      "__________________________________________________________________________________________________\n",
      "conv2d_60 (Conv2D)              (None, 19, 19, 720)  86400       add_10[0][0]                     \n",
      "__________________________________________________________________________________________________\n",
      "batch_normalization_45 (BatchNo (None, 19, 19, 720)  2880        conv2d_60[0][0]                  \n",
      "__________________________________________________________________________________________________\n",
      "swish_45 (Swish)                (None, 19, 19, 720)  0           batch_normalization_45[0][0]     \n",
      "__________________________________________________________________________________________________\n",
      "depthwise_conv2d_16 (DepthwiseC (None, 19, 19, 720)  18000       swish_45[0][0]                   \n",
      "__________________________________________________________________________________________________\n",
      "batch_normalization_46 (BatchNo (None, 19, 19, 720)  2880        depthwise_conv2d_16[0][0]        \n",
      "__________________________________________________________________________________________________\n",
      "swish_46 (Swish)                (None, 19, 19, 720)  0           batch_normalization_46[0][0]     \n",
      "__________________________________________________________________________________________________\n",
      "lambda_16 (Lambda)              (None, 1, 1, 720)    0           swish_46[0][0]                   \n",
      "__________________________________________________________________________________________________\n",
      "conv2d_61 (Conv2D)              (None, 1, 1, 30)     21630       lambda_16[0][0]                  \n",
      "__________________________________________________________________________________________________\n",
      "swish_47 (Swish)                (None, 1, 1, 30)     0           conv2d_61[0][0]                  \n",
      "__________________________________________________________________________________________________\n",
      "conv2d_62 (Conv2D)              (None, 1, 1, 720)    22320       swish_47[0][0]                   \n",
      "__________________________________________________________________________________________________\n",
      "activation_16 (Activation)      (None, 1, 1, 720)    0           conv2d_62[0][0]                  \n",
      "__________________________________________________________________________________________________\n",
      "multiply_16 (Multiply)          (None, 19, 19, 720)  0           activation_16[0][0]              \n",
      "                                                                 swish_46[0][0]                   \n",
      "__________________________________________________________________________________________________\n",
      "conv2d_63 (Conv2D)              (None, 19, 19, 120)  86400       multiply_16[0][0]                \n",
      "__________________________________________________________________________________________________\n",
      "batch_normalization_47 (BatchNo (None, 19, 19, 120)  480         conv2d_63[0][0]                  \n",
      "__________________________________________________________________________________________________\n",
      "add_11 (Add)                    (None, 19, 19, 120)  0           batch_normalization_47[0][0]     \n",
      "                                                                 add_10[0][0]                     \n",
      "__________________________________________________________________________________________________\n",
      "conv2d_64 (Conv2D)              (None, 19, 19, 720)  86400       add_11[0][0]                     \n",
      "__________________________________________________________________________________________________\n",
      "batch_normalization_48 (BatchNo (None, 19, 19, 720)  2880        conv2d_64[0][0]                  \n",
      "__________________________________________________________________________________________________\n",
      "swish_48 (Swish)                (None, 19, 19, 720)  0           batch_normalization_48[0][0]     \n",
      "__________________________________________________________________________________________________\n",
      "depthwise_conv2d_17 (DepthwiseC (None, 10, 10, 720)  18000       swish_48[0][0]                   \n",
      "__________________________________________________________________________________________________\n",
      "batch_normalization_49 (BatchNo (None, 10, 10, 720)  2880        depthwise_conv2d_17[0][0]        \n",
      "__________________________________________________________________________________________________\n",
      "swish_49 (Swish)                (None, 10, 10, 720)  0           batch_normalization_49[0][0]     \n",
      "__________________________________________________________________________________________________\n",
      "lambda_17 (Lambda)              (None, 1, 1, 720)    0           swish_49[0][0]                   \n",
      "__________________________________________________________________________________________________\n",
      "conv2d_65 (Conv2D)              (None, 1, 1, 30)     21630       lambda_17[0][0]                  \n",
      "__________________________________________________________________________________________________\n",
      "swish_50 (Swish)                (None, 1, 1, 30)     0           conv2d_65[0][0]                  \n",
      "__________________________________________________________________________________________________\n",
      "conv2d_66 (Conv2D)              (None, 1, 1, 720)    22320       swish_50[0][0]                   \n",
      "__________________________________________________________________________________________________\n",
      "activation_17 (Activation)      (None, 1, 1, 720)    0           conv2d_66[0][0]                  \n",
      "__________________________________________________________________________________________________\n",
      "multiply_17 (Multiply)          (None, 10, 10, 720)  0           activation_17[0][0]              \n",
      "                                                                 swish_49[0][0]                   \n",
      "__________________________________________________________________________________________________\n",
      "conv2d_67 (Conv2D)              (None, 10, 10, 208)  149760      multiply_17[0][0]                \n",
      "__________________________________________________________________________________________________\n",
      "batch_normalization_50 (BatchNo (None, 10, 10, 208)  832         conv2d_67[0][0]                  \n",
      "__________________________________________________________________________________________________\n",
      "conv2d_68 (Conv2D)              (None, 10, 10, 1248) 259584      batch_normalization_50[0][0]     \n",
      "__________________________________________________________________________________________________\n",
      "batch_normalization_51 (BatchNo (None, 10, 10, 1248) 4992        conv2d_68[0][0]                  \n",
      "__________________________________________________________________________________________________\n",
      "swish_51 (Swish)                (None, 10, 10, 1248) 0           batch_normalization_51[0][0]     \n",
      "__________________________________________________________________________________________________\n",
      "depthwise_conv2d_18 (DepthwiseC (None, 10, 10, 1248) 31200       swish_51[0][0]                   \n",
      "__________________________________________________________________________________________________\n",
      "batch_normalization_52 (BatchNo (None, 10, 10, 1248) 4992        depthwise_conv2d_18[0][0]        \n",
      "__________________________________________________________________________________________________\n",
      "swish_52 (Swish)                (None, 10, 10, 1248) 0           batch_normalization_52[0][0]     \n",
      "__________________________________________________________________________________________________\n",
      "lambda_18 (Lambda)              (None, 1, 1, 1248)   0           swish_52[0][0]                   \n",
      "__________________________________________________________________________________________________\n",
      "conv2d_69 (Conv2D)              (None, 1, 1, 52)     64948       lambda_18[0][0]                  \n",
      "__________________________________________________________________________________________________\n",
      "swish_53 (Swish)                (None, 1, 1, 52)     0           conv2d_69[0][0]                  \n",
      "__________________________________________________________________________________________________\n",
      "conv2d_70 (Conv2D)              (None, 1, 1, 1248)   66144       swish_53[0][0]                   \n",
      "__________________________________________________________________________________________________\n",
      "activation_18 (Activation)      (None, 1, 1, 1248)   0           conv2d_70[0][0]                  \n",
      "__________________________________________________________________________________________________\n",
      "multiply_18 (Multiply)          (None, 10, 10, 1248) 0           activation_18[0][0]              \n",
      "                                                                 swish_52[0][0]                   \n",
      "__________________________________________________________________________________________________\n",
      "conv2d_71 (Conv2D)              (None, 10, 10, 208)  259584      multiply_18[0][0]                \n",
      "__________________________________________________________________________________________________\n",
      "batch_normalization_53 (BatchNo (None, 10, 10, 208)  832         conv2d_71[0][0]                  \n",
      "__________________________________________________________________________________________________\n",
      "add_12 (Add)                    (None, 10, 10, 208)  0           batch_normalization_53[0][0]     \n",
      "                                                                 batch_normalization_50[0][0]     \n",
      "__________________________________________________________________________________________________\n",
      "conv2d_72 (Conv2D)              (None, 10, 10, 1248) 259584      add_12[0][0]                     \n",
      "__________________________________________________________________________________________________\n",
      "batch_normalization_54 (BatchNo (None, 10, 10, 1248) 4992        conv2d_72[0][0]                  \n",
      "__________________________________________________________________________________________________\n",
      "swish_54 (Swish)                (None, 10, 10, 1248) 0           batch_normalization_54[0][0]     \n",
      "__________________________________________________________________________________________________\n",
      "depthwise_conv2d_19 (DepthwiseC (None, 10, 10, 1248) 31200       swish_54[0][0]                   \n",
      "__________________________________________________________________________________________________\n",
      "batch_normalization_55 (BatchNo (None, 10, 10, 1248) 4992        depthwise_conv2d_19[0][0]        \n",
      "__________________________________________________________________________________________________\n",
      "swish_55 (Swish)                (None, 10, 10, 1248) 0           batch_normalization_55[0][0]     \n",
      "__________________________________________________________________________________________________\n",
      "lambda_19 (Lambda)              (None, 1, 1, 1248)   0           swish_55[0][0]                   \n",
      "__________________________________________________________________________________________________\n",
      "conv2d_73 (Conv2D)              (None, 1, 1, 52)     64948       lambda_19[0][0]                  \n",
      "__________________________________________________________________________________________________\n",
      "swish_56 (Swish)                (None, 1, 1, 52)     0           conv2d_73[0][0]                  \n",
      "__________________________________________________________________________________________________\n",
      "conv2d_74 (Conv2D)              (None, 1, 1, 1248)   66144       swish_56[0][0]                   \n",
      "__________________________________________________________________________________________________\n",
      "activation_19 (Activation)      (None, 1, 1, 1248)   0           conv2d_74[0][0]                  \n",
      "__________________________________________________________________________________________________\n",
      "multiply_19 (Multiply)          (None, 10, 10, 1248) 0           activation_19[0][0]              \n",
      "                                                                 swish_55[0][0]                   \n",
      "__________________________________________________________________________________________________\n",
      "conv2d_75 (Conv2D)              (None, 10, 10, 208)  259584      multiply_19[0][0]                \n",
      "__________________________________________________________________________________________________\n",
      "batch_normalization_56 (BatchNo (None, 10, 10, 208)  832         conv2d_75[0][0]                  \n",
      "__________________________________________________________________________________________________\n",
      "add_13 (Add)                    (None, 10, 10, 208)  0           batch_normalization_56[0][0]     \n",
      "                                                                 add_12[0][0]                     \n",
      "__________________________________________________________________________________________________\n",
      "conv2d_76 (Conv2D)              (None, 10, 10, 1248) 259584      add_13[0][0]                     \n",
      "__________________________________________________________________________________________________\n",
      "batch_normalization_57 (BatchNo (None, 10, 10, 1248) 4992        conv2d_76[0][0]                  \n",
      "__________________________________________________________________________________________________\n",
      "swish_57 (Swish)                (None, 10, 10, 1248) 0           batch_normalization_57[0][0]     \n",
      "__________________________________________________________________________________________________\n",
      "depthwise_conv2d_20 (DepthwiseC (None, 10, 10, 1248) 31200       swish_57[0][0]                   \n",
      "__________________________________________________________________________________________________\n",
      "batch_normalization_58 (BatchNo (None, 10, 10, 1248) 4992        depthwise_conv2d_20[0][0]        \n",
      "__________________________________________________________________________________________________\n",
      "swish_58 (Swish)                (None, 10, 10, 1248) 0           batch_normalization_58[0][0]     \n",
      "__________________________________________________________________________________________________\n",
      "lambda_20 (Lambda)              (None, 1, 1, 1248)   0           swish_58[0][0]                   \n",
      "__________________________________________________________________________________________________\n",
      "conv2d_77 (Conv2D)              (None, 1, 1, 52)     64948       lambda_20[0][0]                  \n",
      "__________________________________________________________________________________________________\n",
      "swish_59 (Swish)                (None, 1, 1, 52)     0           conv2d_77[0][0]                  \n",
      "__________________________________________________________________________________________________\n",
      "conv2d_78 (Conv2D)              (None, 1, 1, 1248)   66144       swish_59[0][0]                   \n",
      "__________________________________________________________________________________________________\n",
      "activation_20 (Activation)      (None, 1, 1, 1248)   0           conv2d_78[0][0]                  \n",
      "__________________________________________________________________________________________________\n",
      "multiply_20 (Multiply)          (None, 10, 10, 1248) 0           activation_20[0][0]              \n",
      "                                                                 swish_58[0][0]                   \n",
      "__________________________________________________________________________________________________\n",
      "conv2d_79 (Conv2D)              (None, 10, 10, 208)  259584      multiply_20[0][0]                \n",
      "__________________________________________________________________________________________________\n",
      "batch_normalization_59 (BatchNo (None, 10, 10, 208)  832         conv2d_79[0][0]                  \n",
      "__________________________________________________________________________________________________\n",
      "add_14 (Add)                    (None, 10, 10, 208)  0           batch_normalization_59[0][0]     \n",
      "                                                                 add_13[0][0]                     \n",
      "__________________________________________________________________________________________________\n",
      "conv2d_80 (Conv2D)              (None, 10, 10, 1248) 259584      add_14[0][0]                     \n",
      "__________________________________________________________________________________________________\n",
      "batch_normalization_60 (BatchNo (None, 10, 10, 1248) 4992        conv2d_80[0][0]                  \n",
      "__________________________________________________________________________________________________\n",
      "swish_60 (Swish)                (None, 10, 10, 1248) 0           batch_normalization_60[0][0]     \n",
      "__________________________________________________________________________________________________\n",
      "depthwise_conv2d_21 (DepthwiseC (None, 10, 10, 1248) 31200       swish_60[0][0]                   \n",
      "__________________________________________________________________________________________________\n",
      "batch_normalization_61 (BatchNo (None, 10, 10, 1248) 4992        depthwise_conv2d_21[0][0]        \n",
      "__________________________________________________________________________________________________\n",
      "swish_61 (Swish)                (None, 10, 10, 1248) 0           batch_normalization_61[0][0]     \n",
      "__________________________________________________________________________________________________\n",
      "lambda_21 (Lambda)              (None, 1, 1, 1248)   0           swish_61[0][0]                   \n",
      "__________________________________________________________________________________________________\n",
      "conv2d_81 (Conv2D)              (None, 1, 1, 52)     64948       lambda_21[0][0]                  \n",
      "__________________________________________________________________________________________________\n",
      "swish_62 (Swish)                (None, 1, 1, 52)     0           conv2d_81[0][0]                  \n",
      "__________________________________________________________________________________________________\n",
      "conv2d_82 (Conv2D)              (None, 1, 1, 1248)   66144       swish_62[0][0]                   \n",
      "__________________________________________________________________________________________________\n",
      "activation_21 (Activation)      (None, 1, 1, 1248)   0           conv2d_82[0][0]                  \n",
      "__________________________________________________________________________________________________\n",
      "multiply_21 (Multiply)          (None, 10, 10, 1248) 0           activation_21[0][0]              \n",
      "                                                                 swish_61[0][0]                   \n",
      "__________________________________________________________________________________________________\n",
      "conv2d_83 (Conv2D)              (None, 10, 10, 208)  259584      multiply_21[0][0]                \n",
      "__________________________________________________________________________________________________\n",
      "batch_normalization_62 (BatchNo (None, 10, 10, 208)  832         conv2d_83[0][0]                  \n",
      "__________________________________________________________________________________________________\n",
      "add_15 (Add)                    (None, 10, 10, 208)  0           batch_normalization_62[0][0]     \n",
      "                                                                 add_14[0][0]                     \n",
      "__________________________________________________________________________________________________\n",
      "conv2d_84 (Conv2D)              (None, 10, 10, 1248) 259584      add_15[0][0]                     \n",
      "__________________________________________________________________________________________________\n",
      "batch_normalization_63 (BatchNo (None, 10, 10, 1248) 4992        conv2d_84[0][0]                  \n",
      "__________________________________________________________________________________________________\n",
      "swish_63 (Swish)                (None, 10, 10, 1248) 0           batch_normalization_63[0][0]     \n",
      "__________________________________________________________________________________________________\n",
      "depthwise_conv2d_22 (DepthwiseC (None, 10, 10, 1248) 11232       swish_63[0][0]                   \n",
      "__________________________________________________________________________________________________\n",
      "batch_normalization_64 (BatchNo (None, 10, 10, 1248) 4992        depthwise_conv2d_22[0][0]        \n",
      "__________________________________________________________________________________________________\n",
      "swish_64 (Swish)                (None, 10, 10, 1248) 0           batch_normalization_64[0][0]     \n",
      "__________________________________________________________________________________________________\n",
      "lambda_22 (Lambda)              (None, 1, 1, 1248)   0           swish_64[0][0]                   \n",
      "__________________________________________________________________________________________________\n",
      "conv2d_85 (Conv2D)              (None, 1, 1, 52)     64948       lambda_22[0][0]                  \n",
      "__________________________________________________________________________________________________\n",
      "swish_65 (Swish)                (None, 1, 1, 52)     0           conv2d_85[0][0]                  \n",
      "__________________________________________________________________________________________________\n",
      "conv2d_86 (Conv2D)              (None, 1, 1, 1248)   66144       swish_65[0][0]                   \n",
      "__________________________________________________________________________________________________\n",
      "activation_22 (Activation)      (None, 1, 1, 1248)   0           conv2d_86[0][0]                  \n",
      "__________________________________________________________________________________________________\n",
      "multiply_22 (Multiply)          (None, 10, 10, 1248) 0           activation_22[0][0]              \n",
      "                                                                 swish_64[0][0]                   \n",
      "__________________________________________________________________________________________________\n",
      "conv2d_87 (Conv2D)              (None, 10, 10, 352)  439296      multiply_22[0][0]                \n",
      "__________________________________________________________________________________________________\n",
      "batch_normalization_65 (BatchNo (None, 10, 10, 352)  1408        conv2d_87[0][0]                  \n",
      "__________________________________________________________________________________________________\n",
      "conv2d_88 (Conv2D)              (None, 10, 10, 2112) 743424      batch_normalization_65[0][0]     \n",
      "__________________________________________________________________________________________________\n",
      "batch_normalization_66 (BatchNo (None, 10, 10, 2112) 8448        conv2d_88[0][0]                  \n",
      "__________________________________________________________________________________________________\n",
      "swish_66 (Swish)                (None, 10, 10, 2112) 0           batch_normalization_66[0][0]     \n",
      "__________________________________________________________________________________________________\n",
      "depthwise_conv2d_23 (DepthwiseC (None, 10, 10, 2112) 19008       swish_66[0][0]                   \n",
      "__________________________________________________________________________________________________\n",
      "batch_normalization_67 (BatchNo (None, 10, 10, 2112) 8448        depthwise_conv2d_23[0][0]        \n",
      "__________________________________________________________________________________________________\n",
      "swish_67 (Swish)                (None, 10, 10, 2112) 0           batch_normalization_67[0][0]     \n",
      "__________________________________________________________________________________________________\n",
      "lambda_23 (Lambda)              (None, 1, 1, 2112)   0           swish_67[0][0]                   \n",
      "__________________________________________________________________________________________________\n",
      "conv2d_89 (Conv2D)              (None, 1, 1, 88)     185944      lambda_23[0][0]                  \n",
      "__________________________________________________________________________________________________\n",
      "swish_68 (Swish)                (None, 1, 1, 88)     0           conv2d_89[0][0]                  \n",
      "__________________________________________________________________________________________________\n",
      "conv2d_90 (Conv2D)              (None, 1, 1, 2112)   187968      swish_68[0][0]                   \n",
      "__________________________________________________________________________________________________\n",
      "activation_23 (Activation)      (None, 1, 1, 2112)   0           conv2d_90[0][0]                  \n",
      "__________________________________________________________________________________________________\n",
      "multiply_23 (Multiply)          (None, 10, 10, 2112) 0           activation_23[0][0]              \n",
      "                                                                 swish_67[0][0]                   \n",
      "__________________________________________________________________________________________________\n",
      "conv2d_91 (Conv2D)              (None, 10, 10, 352)  743424      multiply_23[0][0]                \n",
      "__________________________________________________________________________________________________\n",
      "batch_normalization_68 (BatchNo (None, 10, 10, 352)  1408        conv2d_91[0][0]                  \n",
      "__________________________________________________________________________________________________\n",
      "add_16 (Add)                    (None, 10, 10, 352)  0           batch_normalization_68[0][0]     \n",
      "                                                                 batch_normalization_65[0][0]     \n",
      "__________________________________________________________________________________________________\n",
      "conv2d_92 (Conv2D)              (None, 10, 10, 1408) 495616      add_16[0][0]                     \n",
      "__________________________________________________________________________________________________\n",
      "batch_normalization_69 (BatchNo (None, 10, 10, 1408) 5632        conv2d_92[0][0]                  \n",
      "__________________________________________________________________________________________________\n",
      "swish_69 (Swish)                (None, 10, 10, 1408) 0           batch_normalization_69[0][0]     \n",
      "__________________________________________________________________________________________________\n",
      "global_average_pooling2d_1 (Glo (None, 1408)         0           swish_69[0][0]                   \n",
      "__________________________________________________________________________________________________\n",
      "dense_1 (Dense)                 (None, 1024)         1442816     global_average_pooling2d_1[0][0] \n",
      "__________________________________________________________________________________________________\n",
      "dropout_1 (Dropout)             (None, 1024)         0           dense_1[0][0]                    \n",
      "__________________________________________________________________________________________________\n",
      "dense_2 (Dense)                 (None, 200)          205000      dropout_1[0][0]                  \n",
      "__________________________________________________________________________________________________\n",
      "dropout_2 (Dropout)             (None, 200)          0           dense_2[0][0]                    \n",
      "__________________________________________________________________________________________________\n",
      "dense_3 (Dense)                 (None, 3)            603         dropout_2[0][0]                  \n",
      "==================================================================================================\n",
      "Total params: 9,417,557\n",
      "Trainable params: 9,349,989\n",
      "Non-trainable params: 67,568\n",
      "__________________________________________________________________________________________________\n"
     ]
    }
   ],
   "source": [
    "model_EfficientNetB2 = create_network((299, 299, 5), EfficientNetB2)\n",
    "model_EfficientNetB2.compile(\"Adam\", loss='categorical_crossentropy', metrics=[categorical_accuracy])\n",
    "\n",
    "model_EfficientNetB2.summary()"
   ]
  },
  {
   "cell_type": "code",
   "execution_count": null,
   "metadata": {
    "scrolled": true
   },
   "outputs": [],
   "source": [
    "# Full pass over the dataset to find maximal learning rate\n",
    "model_EfficientNetB2.fit(X_train, y_train,  epochs=1, batch_size=64, callbacks=[lr_callback])"
   ]
  },
  {
   "cell_type": "code",
   "execution_count": null,
   "metadata": {},
   "outputs": [],
   "source": [
    "lr_callback.plot_schedule() # visual inspection to determine max learning_rate"
   ]
  },
  {
   "cell_type": "markdown",
   "metadata": {},
   "source": [
    "-2.6 is the last relatively smooth portion before the -2.4 plateau region.\n",
    "To be safe, we can choose to move a little more to the left, closer to -2.7, but this will reduce the performance.\n",
    "\n",
    "-2.5 is therefore chosen to be the maximum learning rate (in log10 space) for the OneCycleLR schedule. \n",
    "Since this is in log10 scale, we use  $10^{−2.5} ≈ 0.003$  to get the actual learning maximum learning rate."
   ]
  },
  {
   "cell_type": "code",
   "execution_count": 21,
   "metadata": {},
   "outputs": [
    {
     "name": "stdout",
     "output_type": "stream",
     "text": [
      "Train on 24880 samples, validate on 6128 samples\n",
      "Epoch 1/100\n",
      "24880/24880 [==============================] - 1103s 44ms/step - loss: 0.2808 - categorical_accuracy: 0.8893 - val_loss: 0.2284 - val_categorical_accuracy: 0.9231\n",
      " - lr: 0.00036 \n",
      "Epoch 2/100\n",
      "24880/24880 [==============================] - 1069s 43ms/step - loss: 0.1306 - categorical_accuracy: 0.9473 - val_loss: 0.1485 - val_categorical_accuracy: 0.9458\n",
      " - lr: 0.00042 \n",
      "Epoch 3/100\n",
      "24880/24880 [==============================] - 1080s 43ms/step - loss: 0.0982 - categorical_accuracy: 0.9626 - val_loss: 0.1761 - val_categorical_accuracy: 0.9421\n",
      " - lr: 0.00048 \n",
      "Epoch 4/100\n",
      "24880/24880 [==============================] - 1077s 43ms/step - loss: 0.0795 - categorical_accuracy: 0.9702 - val_loss: 0.2014 - val_categorical_accuracy: 0.9368\n",
      " - lr: 0.00054 \n",
      "Epoch 5/100\n",
      "24880/24880 [==============================] - 1078s 43ms/step - loss: 0.0652 - categorical_accuracy: 0.9769 - val_loss: 0.1712 - val_categorical_accuracy: 0.9488\n",
      " - lr: 0.00060 \n",
      "Epoch 6/100\n",
      "24880/24880 [==============================] - 1080s 43ms/step - loss: 0.0866 - categorical_accuracy: 0.9715 - val_loss: 0.2664 - val_categorical_accuracy: 0.9231\n",
      " - lr: 0.00066 \n",
      "Epoch 7/100\n",
      "24880/24880 [==============================] - 1076s 43ms/step - loss: 0.0843 - categorical_accuracy: 0.9684 - val_loss: 0.2099 - val_categorical_accuracy: 0.9385\n",
      " - lr: 0.00072 \n",
      "Epoch 8/100\n",
      "24880/24880 [==============================] - 1077s 43ms/step - loss: 0.0574 - categorical_accuracy: 0.9802 - val_loss: 0.2230 - val_categorical_accuracy: 0.9372\n",
      " - lr: 0.00078 \n",
      "Epoch 9/100\n",
      "24880/24880 [==============================] - 1082s 43ms/step - loss: 0.0474 - categorical_accuracy: 0.9849 - val_loss: 0.2359 - val_categorical_accuracy: 0.9468\n",
      " - lr: 0.00083 \n",
      "Epoch 10/100\n",
      "24880/24880 [==============================] - 1079s 43ms/step - loss: 0.0458 - categorical_accuracy: 0.9837 - val_loss: 0.2046 - val_categorical_accuracy: 0.9528\n",
      " - lr: 0.00089 \n",
      "Epoch 11/100\n",
      "24880/24880 [==============================] - 1079s 43ms/step - loss: 0.0400 - categorical_accuracy: 0.9867 - val_loss: 0.2225 - val_categorical_accuracy: 0.9507\n",
      " - lr: 0.00095 \n",
      "Epoch 12/100\n",
      "24880/24880 [==============================] - 1078s 43ms/step - loss: 0.0448 - categorical_accuracy: 0.9855 - val_loss: 0.2096 - val_categorical_accuracy: 0.9479\n",
      " - lr: 0.00101 \n",
      "Epoch 13/100\n",
      "24880/24880 [==============================] - 1079s 43ms/step - loss: 0.0390 - categorical_accuracy: 0.9872 - val_loss: 0.1939 - val_categorical_accuracy: 0.9515\n",
      " - lr: 0.00107 \n",
      "Epoch 14/100\n",
      "24880/24880 [==============================] - 1080s 43ms/step - loss: 0.0423 - categorical_accuracy: 0.9861 - val_loss: 0.2704 - val_categorical_accuracy: 0.9290\n",
      " - lr: 0.00113 \n",
      "Epoch 15/100\n",
      "24880/24880 [==============================] - 1076s 43ms/step - loss: 0.0430 - categorical_accuracy: 0.9857 - val_loss: 0.2453 - val_categorical_accuracy: 0.9496\n",
      " - lr: 0.00119 \n",
      "Epoch 16/100\n",
      "24880/24880 [==============================] - 1076s 43ms/step - loss: 0.0413 - categorical_accuracy: 0.9871 - val_loss: 0.2165 - val_categorical_accuracy: 0.9533\n",
      " - lr: 0.00125 \n",
      "Epoch 17/100\n",
      "24880/24880 [==============================] - 1079s 43ms/step - loss: 0.0399 - categorical_accuracy: 0.9869 - val_loss: 0.1860 - val_categorical_accuracy: 0.9540\n",
      " - lr: 0.00131 \n",
      "Epoch 18/100\n",
      "24880/24880 [==============================] - 1080s 43ms/step - loss: 0.0458 - categorical_accuracy: 0.9846 - val_loss: 0.2725 - val_categorical_accuracy: 0.9538\n",
      " - lr: 0.00137 \n",
      "Epoch 19/100\n",
      "24880/24880 [==============================] - 1077s 43ms/step - loss: 0.0472 - categorical_accuracy: 0.9854 - val_loss: 0.1568 - val_categorical_accuracy: 0.9537\n",
      " - lr: 0.00143 \n",
      "Epoch 20/100\n",
      "24880/24880 [==============================] - 1080s 43ms/step - loss: 0.0402 - categorical_accuracy: 0.9866 - val_loss: 0.2067 - val_categorical_accuracy: 0.9450\n",
      " - lr: 0.00149 \n",
      "Epoch 21/100\n",
      "24880/24880 [==============================] - 1078s 43ms/step - loss: 0.0400 - categorical_accuracy: 0.9876 - val_loss: 0.2106 - val_categorical_accuracy: 0.9571\n",
      " - lr: 0.00155 \n",
      "Epoch 22/100\n",
      "24880/24880 [==============================] - 1080s 43ms/step - loss: 0.0352 - categorical_accuracy: 0.9883 - val_loss: 0.2020 - val_categorical_accuracy: 0.9533\n",
      " - lr: 0.00161 \n",
      "Epoch 23/100\n",
      "24880/24880 [==============================] - 1083s 44ms/step - loss: 0.0385 - categorical_accuracy: 0.9880 - val_loss: 0.2820 - val_categorical_accuracy: 0.9434\n",
      " - lr: 0.00167 \n",
      "Epoch 24/100\n",
      "24880/24880 [==============================] - 1078s 43ms/step - loss: 0.0439 - categorical_accuracy: 0.9855 - val_loss: 0.1918 - val_categorical_accuracy: 0.9589\n",
      " - lr: 0.00173 \n",
      "Epoch 25/100\n",
      "24880/24880 [==============================] - 1083s 44ms/step - loss: 0.0817 - categorical_accuracy: 0.9730 - val_loss: 0.3092 - val_categorical_accuracy: 0.8956\n",
      " - lr: 0.00179 \n",
      "Epoch 26/100\n",
      "24880/24880 [==============================] - 1081s 43ms/step - loss: 0.0730 - categorical_accuracy: 0.9760 - val_loss: 0.1089 - val_categorical_accuracy: 0.9703\n",
      " - lr: 0.00185 \n",
      "Epoch 27/100\n",
      "24880/24880 [==============================] - 1082s 43ms/step - loss: 0.0387 - categorical_accuracy: 0.9889 - val_loss: 0.1161 - val_categorical_accuracy: 0.9716\n",
      " - lr: 0.00190 \n",
      "Epoch 28/100\n",
      "24880/24880 [==============================] - 1082s 43ms/step - loss: 0.0284 - categorical_accuracy: 0.9919 - val_loss: 0.1362 - val_categorical_accuracy: 0.9703\n",
      " - lr: 0.00196 \n",
      "Epoch 29/100\n",
      "24880/24880 [==============================] - 1077s 43ms/step - loss: 0.0323 - categorical_accuracy: 0.9909 - val_loss: 0.1257 - val_categorical_accuracy: 0.9719\n",
      " - lr: 0.00202 \n",
      "Epoch 30/100\n",
      "24880/24880 [==============================] - 1081s 43ms/step - loss: 0.0304 - categorical_accuracy: 0.9916 - val_loss: 0.1336 - val_categorical_accuracy: 0.9687\n",
      " - lr: 0.00208 \n",
      "Epoch 31/100\n",
      "24880/24880 [==============================] - 1080s 43ms/step - loss: 0.0344 - categorical_accuracy: 0.9887 - val_loss: 0.1441 - val_categorical_accuracy: 0.9669\n",
      " - lr: 0.00214 \n",
      "Epoch 32/100\n",
      "24880/24880 [==============================] - 1078s 43ms/step - loss: 0.0369 - categorical_accuracy: 0.9889 - val_loss: 0.1130 - val_categorical_accuracy: 0.9729\n",
      " - lr: 0.00220 \n",
      "Epoch 33/100\n",
      "24880/24880 [==============================] - 1081s 43ms/step - loss: 0.0263 - categorical_accuracy: 0.9918 - val_loss: 0.1517 - val_categorical_accuracy: 0.9734\n",
      " - lr: 0.00226 \n",
      "Epoch 34/100\n",
      "24880/24880 [==============================] - 1081s 43ms/step - loss: 0.0289 - categorical_accuracy: 0.9920 - val_loss: 0.1351 - val_categorical_accuracy: 0.9752\n",
      " - lr: 0.00232 \n",
      "Epoch 35/100\n",
      "24880/24880 [==============================] - 1081s 43ms/step - loss: 0.0335 - categorical_accuracy: 0.9902 - val_loss: 0.1210 - val_categorical_accuracy: 0.9724\n",
      " - lr: 0.00238 \n",
      "Epoch 36/100\n",
      "24880/24880 [==============================] - 1080s 43ms/step - loss: 0.0259 - categorical_accuracy: 0.9929 - val_loss: 0.1105 - val_categorical_accuracy: 0.9714\n",
      " - lr: 0.00244 \n",
      "Epoch 37/100\n",
      "24880/24880 [==============================] - 1078s 43ms/step - loss: 0.0291 - categorical_accuracy: 0.9920 - val_loss: 0.1211 - val_categorical_accuracy: 0.9729\n",
      " - lr: 0.00250 \n",
      "Epoch 38/100\n",
      "24880/24880 [==============================] - 1079s 43ms/step - loss: 0.0325 - categorical_accuracy: 0.9906 - val_loss: 0.1310 - val_categorical_accuracy: 0.9719\n",
      " - lr: 0.00256 \n",
      "Epoch 39/100\n",
      "24880/24880 [==============================] - 1080s 43ms/step - loss: 0.0231 - categorical_accuracy: 0.9937 - val_loss: 0.1335 - val_categorical_accuracy: 0.9762\n",
      " - lr: 0.00262 \n",
      "Epoch 40/100\n",
      "24880/24880 [==============================] - 1079s 43ms/step - loss: 0.0245 - categorical_accuracy: 0.9932 - val_loss: 0.1153 - val_categorical_accuracy: 0.9781\n",
      " - lr: 0.00268 \n",
      "Epoch 41/100\n",
      "24880/24880 [==============================] - 1082s 43ms/step - loss: 0.0304 - categorical_accuracy: 0.9906 - val_loss: 0.1835 - val_categorical_accuracy: 0.9754\n",
      " - lr: 0.00274 \n",
      "Epoch 42/100\n",
      "24880/24880 [==============================] - 1081s 43ms/step - loss: 0.0387 - categorical_accuracy: 0.9888 - val_loss: 0.1536 - val_categorical_accuracy: 0.9714\n",
      " - lr: 0.00280 \n",
      "Epoch 43/100\n",
      "24880/24880 [==============================] - 1079s 43ms/step - loss: 0.0374 - categorical_accuracy: 0.9890 - val_loss: 0.1132 - val_categorical_accuracy: 0.9664\n",
      " - lr: 0.00286 \n",
      "Epoch 44/100\n",
      "24880/24880 [==============================] - 1079s 43ms/step - loss: 0.0388 - categorical_accuracy: 0.9880 - val_loss: 0.1249 - val_categorical_accuracy: 0.9755\n",
      " - lr: 0.00292 \n",
      "Epoch 45/100\n",
      "24880/24880 [==============================] - 1082s 44ms/step - loss: 0.0339 - categorical_accuracy: 0.9908 - val_loss: 0.1771 - val_categorical_accuracy: 0.9589\n",
      " - lr: 0.00297 \n",
      "Epoch 46/100\n",
      "24880/24880 [==============================] - 1080s 43ms/step - loss: 0.0238 - categorical_accuracy: 0.9933 - val_loss: 0.1341 - val_categorical_accuracy: 0.9794\n",
      " - lr: 0.00297 \n",
      "Epoch 47/100\n",
      "24880/24880 [==============================] - 1080s 43ms/step - loss: 0.0336 - categorical_accuracy: 0.9914 - val_loss: 0.1574 - val_categorical_accuracy: 0.9783\n",
      " - lr: 0.00291 \n",
      "Epoch 48/100\n",
      "24880/24880 [==============================] - 1079s 43ms/step - loss: 0.0176 - categorical_accuracy: 0.9953 - val_loss: 0.1520 - val_categorical_accuracy: 0.9781\n",
      " - lr: 0.00285 \n",
      "Epoch 49/100\n",
      "24880/24880 [==============================] - 1077s 43ms/step - loss: 0.0200 - categorical_accuracy: 0.9944 - val_loss: 0.1444 - val_categorical_accuracy: 0.9729\n",
      " - lr: 0.00279 \n",
      "Epoch 50/100\n",
      "24880/24880 [==============================] - 1078s 43ms/step - loss: 0.0242 - categorical_accuracy: 0.9936 - val_loss: 0.0973 - val_categorical_accuracy: 0.9758\n",
      " - lr: 0.00273 \n",
      "Epoch 51/100\n",
      "24880/24880 [==============================] - 1080s 43ms/step - loss: 0.0278 - categorical_accuracy: 0.9930 - val_loss: 0.1707 - val_categorical_accuracy: 0.9747\n",
      " - lr: 0.00267 \n",
      "Epoch 52/100\n",
      "24880/24880 [==============================] - 1076s 43ms/step - loss: 0.0161 - categorical_accuracy: 0.9961 - val_loss: 0.1221 - val_categorical_accuracy: 0.9819\n",
      " - lr: 0.00261 \n",
      "Epoch 53/100\n",
      "24880/24880 [==============================] - 1076s 43ms/step - loss: 0.0133 - categorical_accuracy: 0.9974 - val_loss: 0.1721 - val_categorical_accuracy: 0.9794\n",
      " - lr: 0.00255 \n",
      "Epoch 54/100\n",
      "24880/24880 [==============================] - 1076s 43ms/step - loss: 0.0230 - categorical_accuracy: 0.9939 - val_loss: 0.1561 - val_categorical_accuracy: 0.9755\n",
      " - lr: 0.00249 \n",
      "Epoch 55/100\n",
      "24880/24880 [==============================] - 1078s 43ms/step - loss: 0.0121 - categorical_accuracy: 0.9971 - val_loss: 0.1649 - val_categorical_accuracy: 0.9796\n",
      " - lr: 0.00243 \n",
      "Epoch 56/100\n",
      "24880/24880 [==============================] - 1079s 43ms/step - loss: 0.0144 - categorical_accuracy: 0.9963 - val_loss: 0.1253 - val_categorical_accuracy: 0.9791\n",
      " - lr: 0.00237 \n",
      "Epoch 57/100\n",
      "24880/24880 [==============================] - 1080s 43ms/step - loss: 0.0147 - categorical_accuracy: 0.9959 - val_loss: 0.1298 - val_categorical_accuracy: 0.9781\n",
      " - lr: 0.00231 \n",
      "Epoch 58/100\n",
      "24880/24880 [==============================] - 1078s 43ms/step - loss: 0.0177 - categorical_accuracy: 0.9953 - val_loss: 0.1235 - val_categorical_accuracy: 0.9819\n",
      " - lr: 0.00225 \n",
      "Epoch 59/100\n",
      "24880/24880 [==============================] - 1078s 43ms/step - loss: 0.0144 - categorical_accuracy: 0.9961 - val_loss: 0.1157 - val_categorical_accuracy: 0.9806\n",
      " - lr: 0.00219 \n",
      "Epoch 60/100\n",
      "24880/24880 [==============================] - 1079s 43ms/step - loss: 0.0087 - categorical_accuracy: 0.9980 - val_loss: 0.1825 - val_categorical_accuracy: 0.9807\n",
      " - lr: 0.00213 \n",
      "Epoch 61/100\n",
      "24880/24880 [==============================] - 1078s 43ms/step - loss: 0.0126 - categorical_accuracy: 0.9970 - val_loss: 0.1250 - val_categorical_accuracy: 0.9780\n",
      " - lr: 0.00207 \n",
      "Epoch 62/100\n",
      "24880/24880 [==============================] - 1081s 43ms/step - loss: 0.0123 - categorical_accuracy: 0.9970 - val_loss: 0.1533 - val_categorical_accuracy: 0.9803\n",
      " - lr: 0.00201 \n",
      "Epoch 63/100\n",
      "24880/24880 [==============================] - 1076s 43ms/step - loss: 0.0135 - categorical_accuracy: 0.9968 - val_loss: 0.1506 - val_categorical_accuracy: 0.9789\n",
      " - lr: 0.00196 \n",
      "Epoch 64/100\n",
      "24880/24880 [==============================] - 1078s 43ms/step - loss: 0.0066 - categorical_accuracy: 0.9984 - val_loss: 0.1604 - val_categorical_accuracy: 0.9812\n",
      " - lr: 0.00190 \n",
      "Epoch 65/100\n",
      "24880/24880 [==============================] - 1077s 43ms/step - loss: 0.0178 - categorical_accuracy: 0.9952 - val_loss: 0.1490 - val_categorical_accuracy: 0.9809\n",
      " - lr: 0.00184 \n",
      "Epoch 66/100\n",
      "24880/24880 [==============================] - 1080s 43ms/step - loss: 0.0160 - categorical_accuracy: 0.9962 - val_loss: 0.1495 - val_categorical_accuracy: 0.9785\n",
      " - lr: 0.00178 \n",
      "Epoch 67/100\n",
      "24880/24880 [==============================] - 1077s 43ms/step - loss: 0.0116 - categorical_accuracy: 0.9977 - val_loss: 0.1629 - val_categorical_accuracy: 0.9789\n",
      " - lr: 0.00172 \n",
      "Epoch 68/100\n",
      "24880/24880 [==============================] - 1079s 43ms/step - loss: 0.0079 - categorical_accuracy: 0.9986 - val_loss: 0.1732 - val_categorical_accuracy: 0.9814\n",
      " - lr: 0.00166 \n",
      "Epoch 69/100\n",
      "24880/24880 [==============================] - 1077s 43ms/step - loss: 0.0077 - categorical_accuracy: 0.9986 - val_loss: 0.1627 - val_categorical_accuracy: 0.9799\n",
      " - lr: 0.00160 \n",
      "Epoch 70/100\n",
      "24880/24880 [==============================] - 1077s 43ms/step - loss: 0.0084 - categorical_accuracy: 0.9981 - val_loss: 0.1573 - val_categorical_accuracy: 0.9791\n",
      " - lr: 0.00154 \n",
      "Epoch 71/100\n",
      "24880/24880 [==============================] - 1080s 43ms/step - loss: 0.0101 - categorical_accuracy: 0.9977 - val_loss: 0.1262 - val_categorical_accuracy: 0.9817\n",
      " - lr: 0.00148 \n",
      "Epoch 72/100\n",
      "24880/24880 [==============================] - 1078s 43ms/step - loss: 0.0091 - categorical_accuracy: 0.9975 - val_loss: 0.1654 - val_categorical_accuracy: 0.9814\n",
      " - lr: 0.00142 \n",
      "Epoch 73/100\n",
      "24880/24880 [==============================] - 1081s 43ms/step - loss: 0.0072 - categorical_accuracy: 0.9980 - val_loss: 0.1301 - val_categorical_accuracy: 0.9811\n",
      "Restoring model weights from the end of the best epoch\n",
      " - lr: 0.00136 \n",
      "Epoch 00073: early stopping\n"
     ]
    }
   ],
   "source": [
    "my_callbacks = get_callbacks(\"Models/weights_EfficientNetB2_CNN.hdf5\", \"val_categorical_accuracy\", max_lr=0.003)\n",
    "\n",
    "hist = model_EfficientNetB2.fit(X_train, y_train, epochs=100, batch_size=64,\n",
    "                                validation_data=(X_valid, y_valid),\n",
    "                                callbacks=my_callbacks)"
   ]
  },
  {
   "cell_type": "code",
   "execution_count": 22,
   "metadata": {},
   "outputs": [],
   "source": [
    "model_EfficientNetB2.save_weights(\"Models/best_weights_EfficientNetB2_CNN.hdf5\")"
   ]
  },
  {
   "cell_type": "code",
   "execution_count": 10,
   "metadata": {},
   "outputs": [
    {
     "name": "stdout",
     "output_type": "stream",
     "text": [
      "WARNING:tensorflow:From /opt/python3.5/lib/python3.5/site-packages/tensorflow/python/framework/function.py:987: calling Graph.create_op (from tensorflow.python.framework.ops) with compute_shapes is deprecated and will be removed in a future version.\n",
      "Instructions for updating:\n",
      "Shapes are always computed; don't use the compute_shapes as it has no effect.\n"
     ]
    }
   ],
   "source": [
    "model_EfficientNetB2 = create_network((299, 299, 5), EfficientNetB2)\n",
    "model_EfficientNetB2.load_weights(\"Models/best_weights_EfficientNetB2_CNN.hdf5\")"
   ]
  },
  {
   "cell_type": "code",
   "execution_count": 11,
   "metadata": {},
   "outputs": [
    {
     "name": "stdout",
     "output_type": "stream",
     "text": [
      "26742/26742 [==============================] - 550s 21ms/step\n"
     ]
    }
   ],
   "source": [
    "y_pred = model_EfficientNetB2.predict(X_test, verbose=1)"
   ]
  },
  {
   "cell_type": "code",
   "execution_count": 12,
   "metadata": {},
   "outputs": [],
   "source": [
    "y_pred_bin = np.argmax(y_pred, axis=1)\n",
    "y_test_bin = np.argmax(y_test, axis=1)"
   ]
  },
  {
   "cell_type": "code",
   "execution_count": 15,
   "metadata": {},
   "outputs": [
    {
     "data": {
      "text/plain": [
       "0.9752908716015767"
      ]
     },
     "execution_count": 15,
     "metadata": {},
     "output_type": "execute_result"
    }
   ],
   "source": [
    "f1_score(y_pred_bin, y_test_bin, average=\"weighted\")"
   ]
  },
  {
   "cell_type": "code",
   "execution_count": 22,
   "metadata": {},
   "outputs": [],
   "source": [
    "missclassified = np.where(y_pred_bin != y_test_bin)"
   ]
  },
  {
   "cell_type": "code",
   "execution_count": 35,
   "metadata": {},
   "outputs": [],
   "source": [
    "np.save(\"Results/missclassified.npy\",np.array(list_indx_test_downsampled)[missclassified])"
   ]
  },
  {
   "cell_type": "code",
   "execution_count": 40,
   "metadata": {},
   "outputs": [
    {
     "data": {
      "text/plain": [
       "array([32376725, 19883944, 32364836, 31777264, 32403406, 30850306,\n",
       "       30405068, 24750681, 40657336, 34745814, 41440284, 21823941,\n",
       "       35125750, 29880133, 49359830, 39335566, 39156392, 41389512,\n",
       "       19335690, 40634094, 24342672, 30132539, 34616167, 41896140,\n",
       "       40617726, 26679607, 40459127, 30627598, 40592456, 41656516,\n",
       "       30041458, 36067293, 19122587, 37187573, 44857929, 24926850,\n",
       "       40711165, 31294688, 32965543, 32069517, 26721040, 35403936,\n",
       "       36452390, 26910251, 41254983, 31043890, 30041425, 49819053,\n",
       "       34552922, 32419411, 36546492, 38338938, 31368152, 34028013,\n",
       "       29251381, 48593501, 37841557, 18942225, 31664064, 46388348,\n",
       "       29449349, 42838292, 42999668, 20887224, 47005617, 37900161,\n",
       "       30632836, 21785973, 41686304, 42057551, 25111769, 43411714,\n",
       "       20397081, 34423166, 29324419, 20962269, 39390911, 19581758,\n",
       "       19269947, 38977041, 27407653, 46669656, 49834808, 44442300,\n",
       "       21798717, 32381332, 36081443, 43148288, 30716044, 46232981,\n",
       "       44795040, 48126238, 48827223, 32264187, 39598288, 48014226,\n",
       "       31671697, 30185861, 35710273, 26324095, 20897763, 23754771,\n",
       "       27672448, 20783435, 30138243, 49863625, 47607200, 35354755,\n",
       "       38502411, 19046566, 47021580, 23844928, 19661204, 40578860,\n",
       "       33787002, 19185326, 41077057, 49351084, 42802671, 39380163,\n",
       "       20201597, 43735537, 41440125, 31246368, 20045272, 40619889,\n",
       "       26954203, 37190698, 39164866, 24857407, 19415789, 26370984,\n",
       "       44542459, 21563190, 42048775, 24333585, 40108925, 42097035,\n",
       "       30701344, 38621349, 44215906, 35102368, 35525073, 42474435,\n",
       "       26394793, 40715605, 40896630, 24926873, 47814697, 35101564,\n",
       "       31474064, 40647249, 20123214, 37104962, 34966293, 35603073,\n",
       "       46119192, 41840333, 41187760, 27428261, 40609290, 20390178,\n",
       "       39923039, 41570982, 33903448, 47302924, 29849154, 29613766,\n",
       "       39347244, 48931090, 48925419, 45247754, 41728860, 21745559,\n",
       "       36392908, 39166572, 39389402, 31389178, 46204837, 28175040,\n",
       "       27935778, 19815027, 35123091, 25793956, 21086466, 30856784,\n",
       "       26882084, 32373805, 27455786, 47904087, 28161753, 48681651,\n",
       "       44474017, 19973487, 29574779, 27279928, 31727234, 20856437,\n",
       "       41331256, 25001249, 44016099, 44829297, 42380794, 25085799,\n",
       "       38565324, 27750781, 30985452, 48356195, 30595398, 44512923,\n",
       "       37913873, 30703183, 31458244, 39270282, 26385905, 30775453,\n",
       "       40627101, 30360492, 42666428, 49338036, 31042730, 33635118,\n",
       "       38171823, 41309310, 43666954, 37612308, 30778303, 39403784,\n",
       "       43879309, 39003196, 39357261, 44531595, 19828835, 42266082,\n",
       "       19312165, 33138449, 44585426, 29336804, 49069625, 23809963,\n",
       "       40489495, 40643450, 42438405, 24422435, 32832541, 26720826,\n",
       "       30254177, 21680090, 40785816, 47794589, 42689641, 35366529,\n",
       "       41083668, 21692925, 48658237, 32448936, 44511844, 31511474,\n",
       "       45442089, 27376627, 36476955, 40667235, 30158080, 27277807,\n",
       "       39993625, 30728394, 32503058, 23787366, 49808027, 45098677,\n",
       "       41430028, 48819664, 35593209, 37355735, 35881582, 21794091,\n",
       "       31576326, 35111113, 39359457, 40914144, 34102211, 36313314,\n",
       "       33972560, 37093690, 43363160, 49173175, 30487009, 39198642,\n",
       "       36591067, 37116831, 25685906, 30228498, 23844107, 32428276,\n",
       "       19616420, 40576052, 32373187, 41170962, 47855843, 42050660,\n",
       "       39591018, 40814823, 48000193, 46271015, 30360504, 44821245,\n",
       "       24014420, 40447361, 23603223, 24958980, 41386431, 43740038,\n",
       "       40641449, 21566585, 45513341, 40628646, 47792047, 20893481,\n",
       "       36080646, 48345101, 39354843, 25079233, 32350906, 32423577,\n",
       "       26903448, 39000568, 37277294, 39988708, 41388578, 36470781,\n",
       "       39366306, 48348998, 43986124, 35792112, 41438604, 20810508,\n",
       "       31881291, 31782138, 34120015, 42039355, 41564087, 36377062,\n",
       "       40555640, 19110636, 23162897, 26638231, 24468551, 19054227,\n",
       "       41189080, 44674860, 19685750, 46740244, 20907801, 30715553,\n",
       "       34112909, 37636755, 40666411, 33609920, 41586962, 40673268,\n",
       "       36456635, 32948876, 43081952, 49932122, 42757348, 20959578,\n",
       "       19363232, 19109018, 20769661, 44686264, 27254603, 43361342,\n",
       "       38551856, 23759471, 43353021, 49891029, 45252501, 30628462,\n",
       "       48045912, 32228542, 37618122, 45142546, 37039175, 40627057,\n",
       "       33768302, 31501199, 30767545, 26667427, 28443567, 23754754,\n",
       "       20625018, 32410722, 19092343, 35216949, 31184405, 21097621,\n",
       "       23759485, 32351500, 38226305, 44171764, 42757331, 42458836,\n",
       "       28071570, 41010635, 33959051, 26374263, 24199015, 31826897,\n",
       "       20897716, 39404558, 47488512, 24929563, 26679497, 46789129,\n",
       "       34381620, 48440427, 43130608, 24013080, 49161377, 20871125,\n",
       "       49471897, 43623908, 45704124, 28553483, 33138450, 39119723,\n",
       "       43680483, 36589003, 39886058, 37004289, 35366530, 27329257,\n",
       "       26839846, 40561489, 34413576, 21691688, 36074645, 21863268,\n",
       "       33064506, 39000541, 43021799, 36104018, 44175674, 28609528,\n",
       "       48866678, 24053334, 29310268, 38976741, 21097662, 33993333,\n",
       "       40550852, 39845074, 21621988, 30185871, 19084162, 19493437,\n",
       "       31532060, 25961220, 21888575, 27151572, 26391627, 41931478,\n",
       "       40457489, 33852326, 37552428, 21578364, 41519807, 45238875,\n",
       "       49924862, 42832984, 29502334, 27298866, 42385405, 34009778,\n",
       "       32364781, 24889979, 39625851, 28998296, 43165138, 24594391,\n",
       "       40508847, 31500893, 30725561, 41453855, 40495044, 20918446,\n",
       "       39114084, 40649668, 36684615, 41388863, 41871898, 29001471,\n",
       "       30412572, 42048755, 42229505, 36836926, 42230642, 24210360,\n",
       "       28171622, 32368193, 42757324, 43126272, 37142935, 20853948,\n",
       "       34616155, 30412763, 29624799, 26644139, 23810320, 43600647,\n",
       "       32763943, 24904596, 31645667, 34626747, 24978998, 33844053,\n",
       "       25719196, 25004117, 19141121, 45304633, 41807561, 20843097,\n",
       "       47802929, 20012090, 43058701, 19623939, 26825446, 41337891,\n",
       "       40459007, 21018779, 41133155, 19310270, 45247753, 40281495,\n",
       "       21899153, 25802966, 20201333, 28734825, 19610330, 43161510,\n",
       "       41137066, 30316461, 37085917, 34151778, 45858444, 18986347,\n",
       "       31642794, 47231608, 36558191, 20826898, 45536771, 32455223,\n",
       "       30277420, 31349320, 29503746, 35931316, 29812886, 35976758,\n",
       "       36530507, 31728609, 30711739, 21077704, 49348289, 30715368,\n",
       "       45776505, 46463522, 31629579, 30076922, 31643102, 31575062,\n",
       "       46740210, 29649738, 48386285, 30349666, 46622890, 38994766,\n",
       "       33878966, 40821054, 48127031, 47939444, 41481892, 36060244,\n",
       "       26704215, 40828448, 37624452, 21091194, 37198785, 48692285,\n",
       "       30680611, 35791385, 33993297, 32645451, 30898862, 37861683,\n",
       "       43137735, 42757338, 30421164, 41386419, 19835385, 41320030,\n",
       "       26370697, 39102474, 49782346, 45460340, 36993016, 20814179,\n",
       "       34476214, 46543361, 43178374, 35602082, 44857951, 41391672,\n",
       "       46478561, 29212569, 29963843, 38199625, 38152957, 20893387,\n",
       "       43811363, 42430335, 41974662, 33972557, 30906071, 40731058,\n",
       "       26389215, 33030678, 32218117, 46082801, 31645658, 41558915,\n",
       "       41592230, 45513307, 46462645, 38152965, 21601967, 30396623,\n",
       "       42782845, 46103818, 37124751, 27444602, 31542101, 25121461,\n",
       "       20884331, 30862962, 38640039, 27377827, 30640369, 40724817,\n",
       "       33224288, 31400943, 40628654, 34981096, 30601774, 49928307,\n",
       "       41431543, 21101829, 49792177, 44438427, 41930330, 20793306,\n",
       "       23766261, 41090870, 32603356, 30722897, 46669577, 20855150,\n",
       "       48931086, 21092180, 41222923, 19145336, 21663164, 40490598,\n",
       "       44505721, 31547690, 29923041])"
      ]
     },
     "execution_count": 40,
     "metadata": {},
     "output_type": "execute_result"
    }
   ],
   "source": [
    "np.array(list_indx_test_downsampled)[missclassified]"
   ]
  },
  {
   "cell_type": "code",
   "execution_count": 36,
   "metadata": {},
   "outputs": [],
   "source": [
    "np.save(\"Results/y_pred_downsampled.npy\", y_pred)"
   ]
  },
  {
   "cell_type": "code",
   "execution_count": 37,
   "metadata": {},
   "outputs": [],
   "source": [
    "np.save(\"Results/y_test_downsampled.npy\", y_test)"
   ]
  },
  {
   "cell_type": "code",
   "execution_count": 38,
   "metadata": {},
   "outputs": [],
   "source": [
    "np.save(\"Data/list_indx_test_downsampled.npy\", list_indx_test_downsampled)"
   ]
  },
  {
   "cell_type": "markdown",
   "metadata": {},
   "source": [
    "# Results <a name=\"res\"></a>"
   ]
  },
  {
   "cell_type": "markdown",
   "metadata": {},
   "source": [
    "## multi-class results <a name='multi_class'></a>"
   ]
  },
  {
   "cell_type": "code",
   "execution_count": 124,
   "metadata": {},
   "outputs": [
    {
     "name": "stdout",
     "output_type": "stream",
     "text": [
      "26742/26742 [==============================] - 308s 12ms/step\n",
      "\n",
      "Evaluation on 26742 images from the test set :\n",
      "\n",
      "Random predictions :\n",
      "Accuracy  :\t 0.332\n",
      "Precision :\t 0.497\n",
      "Recall    :\t 0.332\n",
      "F1-score  :\t 0.397\n",
      "\n",
      "\n",
      "Only majority class :\n",
      "Accuracy  :\t 0.501\n",
      "Precision :\t 0.251\n",
      "Recall    :\t 0.501\n",
      "F1-score  :\t 0.334\n",
      "\n",
      "\n",
      "Actual predictions :\n",
      "Accuracy  :\t 0.974\n",
      "Precision :\t 0.973\n",
      "Recall    :\t 0.974\n",
      "F1-score  :\t 0.973\n",
      "\n",
      "\n"
     ]
    },
    {
     "data": {
      "image/png": "[encoded data removed]",
      "text/plain": [
       "<Figure size 1440x432 with 2 Axes>"
      ]
     },
     "metadata": {
      "needs_background": "light"
     },
     "output_type": "display_data"
    }
   ],
   "source": [
    "y_pred, missclassified_img = eval_model(hist, X_test, y_test, generator=False, verbose=1, plot=True)"
   ]
  },
  {
   "cell_type": "code",
   "execution_count": 140,
   "metadata": {},
   "outputs": [
    {
     "name": "stdout",
     "output_type": "stream",
     "text": [
      "Number of badly classified images :  706\n",
      "Number of 1-2 predicted : 0\n",
      "Number of 0-1 predicted : 276\n",
      "Number of 0-0 predicted : 430\n"
     ]
    }
   ],
   "source": [
    "print(\"Number of badly classified images : \", y_pred[missclassified_img].shape[0])\n",
    "print(\"Number of 1-2 predicted :\", np.where(y_pred[missclassified_img] == 2)[0].shape[0])\n",
    "print(\"Number of 0-1 predicted :\", np.where(y_pred[missclassified_img] == 1)[0].shape[0])\n",
    "print(\"Number of 0-0 predicted :\", np.where(y_pred[missclassified_img] == 0)[0].shape[0])"
   ]
  },
  {
   "cell_type": "markdown",
   "metadata": {},
   "source": [
    "## Binary class results <a name=\"bin\"></a>"
   ]
  },
  {
   "cell_type": "code",
   "execution_count": 19,
   "metadata": {},
   "outputs": [],
   "source": [
    "y_pred_prob = []\n",
    "for i in y_pred:\n",
    "    if np.argmax(i) == 0:\n",
    "        y_pred_prob.append(1 - i[0])\n",
    "    else:\n",
    "        y_pred_prob.append(i[np.argmax(i)])\n",
    "        \n",
    "y_pred_prob = np.array(y_pred_prob)\n",
    "\n",
    "\n",
    "\n",
    "\n",
    "y_pred_flat = np.argmax(y_pred, axis=1)\n",
    "y_pred_bin  = np.array([1 if i==2 else i for i in y_pred_flat])\n",
    "\n",
    "y_test_flat = np.argmax(y_test, axis=1)\n",
    "y_test_bin  = np.array([1 if i==2 else i for i in y_test_flat])"
   ]
  },
  {
   "cell_type": "code",
   "execution_count": 31,
   "metadata": {},
   "outputs": [
    {
     "name": "stdout",
     "output_type": "stream",
     "text": [
      "Using argmax for predictions :\n",
      " \n",
      "accuracy_score for whole test set :  97.91981422416205\n",
      "precision for whole test set :  97.97922691773485\n",
      "recall for whole test set :  97.91981422416205\n",
      "f1-score for whole test set :  97.93794428781655\n"
     ]
    }
   ],
   "source": [
    "print(\"Using argmax for predictions :\\n \")\n",
    "\n",
    "print(\"accuracy_score for whole test set : \", accuracy_score(y_test_bin, y_pred_bin) * 100)\n",
    "print(\"precision for whole test set : \", precision_score(y_test_bin, y_pred_bin, average=\"weighted\") * 100)\n",
    "print(\"recall for whole test set : \", recall_score(y_test_bin, y_pred_bin, average=\"weighted\") * 100)\n",
    "print(\"f1-score for whole test set : \", f1_score(y_test_bin, y_pred_bin, average=\"weighted\") * 100)"
   ]
  },
  {
   "cell_type": "code",
   "execution_count": 48,
   "metadata": {},
   "outputs": [
    {
     "data": {
      "image/png": "[encoded data removed]",
      "text/plain": [
       "<Figure size 432x288 with 1 Axes>"
      ]
     },
     "metadata": {
      "needs_background": "light"
     },
     "output_type": "display_data"
    }
   ],
   "source": [
    "average_precision = average_precision_score(y_test_bin, y_pred_prob)\n",
    "\n",
    "precision, recall, tr = precision_recall_curve(y_test_bin, y_pred_prob)\n",
    "\n",
    "# In matplotlib < 1.5, plt.fill_between does not have a 'step' argument\n",
    "step_kwargs = ({'step': 'post'}\n",
    "               if 'step' in signature(plt.fill_between).parameters\n",
    "               else {})\n",
    "plt.step(precision, recall, color='b', alpha=0.2,\n",
    "         where='post')\n",
    "#plt.fill_between(recall, precision, alpha=0.2, color='b', **step_kwargs)\n",
    "\n",
    "plt.xlabel('Recall')\n",
    "plt.ylabel('Precision')\n",
    "plt.ylim([0.0, 1.05])\n",
    "plt.xlim([0.0, 1.05])\n",
    "plt.title('Whole Test set Precision-Recall curve : AP={0:0.2f}'.format(\n",
    "          average_precision))\n",
    "plt.legend([\"AUC={0:0.2f}\".format(auc(recall, precision) * 100)])\n",
    "plt.show()"
   ]
  },
  {
   "cell_type": "code",
   "execution_count": 50,
   "metadata": {},
   "outputs": [
    {
     "name": "stdout",
     "output_type": "stream",
     "text": [
      "Using 0.9 as threshold :\n",
      " \n",
      "accuracy_score for whole test set : 98.485\n",
      "precision for whole test set : 98.477\n",
      "recall for whole test set : 98.485\n",
      "f1-score for whole test set : 98.479\n"
     ]
    }
   ],
   "source": [
    "print(\"Using 0.9 as threshold :\\n \")\n",
    "\n",
    "print(\"accuracy_score for whole test set : {0:0.3f}\".format(accuracy_score(y_test_bin, y_pred_prob > 0.9) * 100))\n",
    "print(\"precision for whole test set : {0:0.3f}\".format(precision_score(y_test_bin, y_pred_prob > 0.9, average=\"weighted\") * 100))\n",
    "print(\"recall for whole test set : {0:0.3f}\".format(recall_score(y_test_bin, y_pred_prob > 0.9, average=\"weighted\") * 100))\n",
    "print(\"f1-score for whole test set : {0:0.3f}\".format(f1_score(y_test_bin, y_pred_prob > 0.9, average=\"weighted\") * 100))"
   ]
  },
  {
   "cell_type": "markdown",
   "metadata": {},
   "source": [
    "### Exemple pipeline évaluation\n",
    "\n",
    "<b>Idée</b> : Ce qui compte réellement dans une application clinique c'est de trouver tous les variants somatiques, c'est-à-dire maximiser les vrais positifs et minimiser les faux négatifs.\n",
    "\n",
    "Les faux positifs ne sont pas spécialement problématique puisqu'un expert regardera les positions selectionnées. De même, la majorité des positions est non-variant donc les vrais négatifs ne sont pas importants. \n",
    "\n",
    "Il faut donc tracer la courbe précision-recall et faire en sorte de choisir le bon threshold afin de maximiser le recall pour une précision suffisamment bonne.\n",
    "\n",
    "\n",
    "Le recall est défini comme : $$recall = \\frac{TP}{TP + FN}$$\n",
    "\n",
    "(C'est la capacité du classifieur à trouver tous les variants somatiques)\n",
    "\n",
    "La précision est définie comme : $$precision = \\frac{TP}{TP + FP}$$\n",
    "\n",
    "(C'est la capacité du classifieur à détecter uniquement des variants réellement somatiques)\n",
    "\n",
    "Pour résumer ces informations en une seule métrique, on peut : \n",
    "- 1) choisir le threshold de façon à maximiser le recall tout en conservant une bonne précision \n",
    "- 2) calculer le $F_{\\beta}$-score définit par : $$F_{\\beta} = (1 + \\beta^2) \\cdot \\frac{\\mathrm{precision} \\cdot \\mathrm{recall}}{(\\beta^2 \\cdot \\mathrm{precision}) + \\mathrm{recall}}$$\n",
    "\n",
    "\n",
    "Ce score donne plus d'importance au recall d'un facteur $\\beta$, si $\\beta = 1$ alors ce score est le $F_1$-score classique et la précision et le recall ont la même importance. \n",
    "\n",
    "On peut ainsi utiliser le score $F_2$ signifiant que le recall est deux fois plus important que la précision pour notre application."
   ]
  },
  {
   "cell_type": "code",
   "execution_count": 115,
   "metadata": {},
   "outputs": [],
   "source": [
    "y_test = np.load(\"Data/y_test.npy\")\n",
    "y_pred = np.load(\"Results/y_pred_multiclass_B2.npy\")"
   ]
  },
  {
   "cell_type": "code",
   "execution_count": 116,
   "metadata": {},
   "outputs": [],
   "source": [
    "y_test = np.argmax(y_test, axis=1)\n",
    "y_test = np.array([1 if i==2 else i for i in y_test])"
   ]
  },
  {
   "cell_type": "code",
   "execution_count": 119,
   "metadata": {},
   "outputs": [],
   "source": [
    "def evaluate(y_test, y_prob, min_precision, max_precision, min_recall, beta=2, plot=True):\n",
    "    \"\"\"Helper function to evaluate the quality of predictions. The goal is to maximize recall while\n",
    "       keeping a good precision.\n",
    "       Args:\n",
    "       y_test : ground truth (0 or 1 label, shape (N, ))\n",
    "       y_prob : predicted probabilities for the positive class (shape (N, )) or predicted probabilities (shape (N, n_classes))\n",
    "       beta   : beta parameter to f_beta score, beta -> 0 only keeps precision, beta -> inf only keeps recall\n",
    "       min_precision : minimum expected precision\n",
    "       max_precision : if set too high, output of recall will be close to 0\n",
    "       min_recall    : minimum expected recall\n",
    "       plot : whether to plot precision-recall curve\"\"\"\n",
    "    \n",
    "    if y_prob.shape != y_test.shape:\n",
    "        print(\"Reshaping output probabilities from {} to {}...\\n\".format(y_prob.shape, y_test.shape))\n",
    "        y_pred_prob = []\n",
    "        for i in y_prob:\n",
    "            if np.argmax(i) == 0:\n",
    "                y_pred_prob.append(1 - i[0])\n",
    "            else:\n",
    "                y_pred_prob.append(i[np.argmax(i)])\n",
    "        y_pred_prob = np.array(y_pred_prob)\n",
    "        y_prob = y_pred_prob\n",
    "        \n",
    "    \n",
    "    precision, recall, tr = precision_recall_curve(y_test, y_prob)\n",
    "    indx = np.where((min_precision <= precision) & (precision < max_precision))[0]\n",
    "    \n",
    "    m = 0\n",
    "    threshold = 0\n",
    "    min_recall = 0.9\n",
    "    indx_opti = 0\n",
    "    for i in indx:\n",
    "        if recall[i] > min_recall and recall[i] > m:\n",
    "            m = recall[i]\n",
    "            threshold = tr[i]\n",
    "            indx_opti = i\n",
    "    \n",
    "    print(\"Precision : \", precision[indx_opti])\n",
    "    print(\"Recall : \", recall[indx_opti])\n",
    "    print(\"f_{} score : {}\".format(beta, fbeta_score(y_test, (y_prob >= threshold), beta=beta)))\n",
    "    \n",
    "    if plot:\n",
    "        step_kwargs = ({'step': 'post'}\n",
    "               if 'step' in signature(plt.fill_between).parameters\n",
    "               else {})\n",
    "        plt.step(precision, recall, color='b', alpha=0.2,\n",
    "                 where='post')\n",
    "        plt.xlabel('Precision')\n",
    "        plt.ylabel('Recall')\n",
    "        plt.ylim([0.0, 1.05])\n",
    "        plt.xlim([0.0, 1.05])\n",
    "        plt.title('Precision-Recall curve')\n",
    "        plt.legend([\"AUC={0:0.2f}\".format(auc(recall, precision) * 100)])\n",
    "        plt.plot(precision[indx_opti], recall[indx_opti], \"ro\")\n",
    "        plt.show()\n",
    "        \n",
    "    return precision, recall, tr, indx_opti\n",
    "        \n"
   ]
  },
  {
   "cell_type": "code",
   "execution_count": 120,
   "metadata": {},
   "outputs": [
    {
     "name": "stdout",
     "output_type": "stream",
     "text": [
      "Reshaping output probabilities from (71484, 3) to (71484,)...\n",
      "\n",
      "Precision :  0.9000414479137884\n",
      "Recall :  0.9744222571236257\n",
      "f_2 score : 0.9585785756327252\n"
     ]
    },
    {
     "data": {
      "image/png": "[encoded data removed]",
      "text/plain": [
       "<Figure size 432x288 with 1 Axes>"
      ]
     },
     "metadata": {
      "needs_background": "light"
     },
     "output_type": "display_data"
    }
   ],
   "source": [
    "precision, recall, tr, indx_opti = evaluate(y_test, y_pred, 0.9, 1, 0.9)"
   ]
  },
  {
   "cell_type": "markdown",
   "metadata": {},
   "source": [
    "## Indels / SNP evaluation <a name=\"snp_indels_res\"></a>"
   ]
  },
  {
   "cell_type": "code",
   "execution_count": 122,
   "metadata": {},
   "outputs": [],
   "source": [
    "path_truth_vcf = \"Data/na12878-na24385-somatic-hg38-truth.vcf\""
   ]
  },
  {
   "cell_type": "code",
   "execution_count": 123,
   "metadata": {},
   "outputs": [],
   "source": [
    "def get_snp_indels(fname, nlines, printl=False):\n",
    "    with open(fname) as f:\n",
    "        labels_ind = {'0-1' : [], '1-2' : [], 'snp' : [], 'indels' : []}\n",
    "        for j, line in enumerate(islice(f, nlines)):\n",
    "            if j <= 72:\n",
    "                continue\n",
    "                \n",
    "            line = line.split(\"\\t\")\n",
    "            chro = line[0]\n",
    "            \n",
    "            if chro != 'chr22':\n",
    "                continue\n",
    "                \n",
    "            pos  = int(line[1])\n",
    "            ref  = line[3]\n",
    "            ref_len = len(ref)\n",
    "            \n",
    "            label = line[-1].split(\":\")[0]\n",
    "            \n",
    "            alt  = line[4]\n",
    "            alts = alt.split(\",\")\n",
    "            \n",
    "            if label == \"0/0\":\n",
    "                continue\n",
    "                \n",
    "            elif label in ['0/1', '1/0', '0|1', '1|0', '0-1', '1-0']:\n",
    "                label = '0-1'\n",
    "                alt_len = len(alts[0])\n",
    "                \n",
    "            elif label in ['1/2', '2/1', '1|2', '2|1', '1-2', '2-1']:\n",
    "                label = '1-2'\n",
    "                alt_len = max(len(alts[0]), len(alts[1]))\n",
    "\n",
    "            labels_ind[label].append(pos)\n",
    "            \n",
    "            if ref_len == alt_len:\n",
    "                labels_ind['snp'].append(pos)\n",
    "            else:\n",
    "                labels_ind['indels'].append(pos)\n",
    "                \n",
    "            if printl:\n",
    "                print(\" :\\t \".join((chro, pos, ref, alt, label)))\n",
    "                \n",
    "        return labels_ind"
   ]
  },
  {
   "cell_type": "code",
   "execution_count": 124,
   "metadata": {},
   "outputs": [],
   "source": [
    "snp_indels_dic = get_snp_indels(path_truth_vcf, None, False)"
   ]
  },
  {
   "cell_type": "code",
   "execution_count": 129,
   "metadata": {},
   "outputs": [
    {
     "ename": "NameError",
     "evalue": "name 'labels_chr22_indx' is not defined",
     "output_type": "error",
     "traceback": [
      "\u001b[0;31m---------------------------------------------------------------------------\u001b[0m",
      "\u001b[0;31mNameError\u001b[0m                                 Traceback (most recent call last)",
      "\u001b[0;32m<ipython-input-129-516a11758249>\u001b[0m in \u001b[0;36m<module>\u001b[0;34m\u001b[0m\n\u001b[0;32m----> 1\u001b[0;31m \u001b[0mlist_variants\u001b[0m \u001b[0;34m=\u001b[0m \u001b[0mlabels_chr22_indx\u001b[0m\u001b[0;34m[\u001b[0m\u001b[0;34m'0-1'\u001b[0m\u001b[0;34m]\u001b[0m \u001b[0;34m+\u001b[0m \u001b[0mlabels_chr22_indx\u001b[0m\u001b[0;34m[\u001b[0m\u001b[0;34m'1-2'\u001b[0m\u001b[0;34m]\u001b[0m\u001b[0;34m\u001b[0m\u001b[0m\n\u001b[0m",
      "\u001b[0;31mNameError\u001b[0m: name 'labels_chr22_indx' is not defined"
     ]
    }
   ],
   "source": [
    "list_variants = labels_chr22_indx['0-1'] + labels_chr22_indx['1-2']"
   ]
  },
  {
   "cell_type": "code",
   "execution_count": 130,
   "metadata": {},
   "outputs": [
    {
     "ename": "NameError",
     "evalue": "name 'list_variants' is not defined",
     "output_type": "error",
     "traceback": [
      "\u001b[0;31m---------------------------------------------------------------------------\u001b[0m",
      "\u001b[0;31mNameError\u001b[0m                                 Traceback (most recent call last)",
      "\u001b[0;32m<ipython-input-130-495971efe385>\u001b[0m in \u001b[0;36m<module>\u001b[0;34m\u001b[0m\n\u001b[0;32m----> 1\u001b[0;31m \u001b[0mlist_variants_dic\u001b[0m \u001b[0;34m=\u001b[0m \u001b[0;34m{\u001b[0m\u001b[0mpos\u001b[0m \u001b[0;34m:\u001b[0m \u001b[0mindx\u001b[0m \u001b[0;32mfor\u001b[0m \u001b[0mpos\u001b[0m\u001b[0;34m,\u001b[0m \u001b[0mindx\u001b[0m \u001b[0;32min\u001b[0m \u001b[0mlist_variants\u001b[0m\u001b[0;34m}\u001b[0m\u001b[0;34m\u001b[0m\u001b[0m\n\u001b[0m",
      "\u001b[0;31mNameError\u001b[0m: name 'list_variants' is not defined"
     ]
    }
   ],
   "source": [
    "list_variants_dic = {pos : indx for pos, indx in list_variants}"
   ]
  },
  {
   "cell_type": "code",
   "execution_count": 63,
   "metadata": {},
   "outputs": [],
   "source": [
    "list_pos_test = list_variants_dic.keys()\n",
    "list_indels_test = set(list_pos_test) - (set(list_pos_test) - set(snp_indels_dic['indels']))\n",
    "list_snp_test    = set(list_pos_test) - (set(list_pos_test) - set(snp_indels_dic['snp']))"
   ]
  },
  {
   "cell_type": "code",
   "execution_count": 68,
   "metadata": {},
   "outputs": [],
   "source": [
    "list_indels_indx = [list_variants_dic[i] for i in list_indels_test]\n",
    "list_snp_indx = [list_variants_dic[i] for i in list_snp_test]"
   ]
  },
  {
   "cell_type": "code",
   "execution_count": 69,
   "metadata": {},
   "outputs": [
    {
     "name": "stdout",
     "output_type": "stream",
     "text": [
      "Number of snp pos : 11890\n",
      "Number of indels pos : 1481\n"
     ]
    }
   ],
   "source": [
    "print(\"Number of snp pos : {}\\nNumber of indels pos : {}\".format(len(list_snp_indx), len(list_indels_indx)))"
   ]
  },
  {
   "cell_type": "code",
   "execution_count": 54,
   "metadata": {},
   "outputs": [
    {
     "name": "stdout",
     "output_type": "stream",
     "text": [
      "Size of dataset :  11890\n",
      "1000\n",
      "2000\n",
      "3000\n",
      "4000\n",
      "5000\n",
      "6000\n",
      "7000\n",
      "8000\n",
      "9000\n",
      "10000\n",
      "11000\n"
     ]
    }
   ],
   "source": [
    "X_test_snp, y_test_snp = load_data_set_from_pileups(path_test, list_snp_test, labels_chr22_encoded, test=True)"
   ]
  },
  {
   "cell_type": "code",
   "execution_count": 59,
   "metadata": {},
   "outputs": [
    {
     "name": "stdout",
     "output_type": "stream",
     "text": [
      "11890/11890 [==============================] - 112s 9ms/step\n"
     ]
    }
   ],
   "source": [
    "y_pred_snp = model_EfficientNetB2.predict(X_test_snp, verbose=1)"
   ]
  },
  {
   "cell_type": "markdown",
   "metadata": {},
   "source": [
    "### Results for SNP "
   ]
  },
  {
   "cell_type": "markdown",
   "metadata": {},
   "source": [
    "#### Only SNP"
   ]
  },
  {
   "cell_type": "code",
   "execution_count": 76,
   "metadata": {},
   "outputs": [],
   "source": [
    "y_pred_snp = y_pred[list_snp_indx]\n",
    "y_pred_bin_snp = y_pred_bin[list_snp_indx]\n",
    "y_pred_prob_snp = y_pred_prob[list_snp_indx]\n",
    "\n",
    "y_test_snp = y_test[list_snp_indx]\n",
    "y_test_bin_snp = y_test_bin[list_snp_indx]"
   ]
  },
  {
   "cell_type": "code",
   "execution_count": 77,
   "metadata": {},
   "outputs": [
    {
     "name": "stdout",
     "output_type": "stream",
     "text": [
      "accuracy_score for snp :  98.75525651808242\n",
      "precision for snp :  100.0\n",
      "recall for snp :  98.75525651808242\n",
      "f1-score for snp :  99.37373053486796\n"
     ]
    }
   ],
   "source": [
    "print(\"accuracy_score for snp : \", accuracy_score(y_test_bin_snp, y_pred_bin_snp) * 100)\n",
    "print(\"precision for snp : \", precision_score(y_test_bin_snp, y_pred_bin_snp) * 100)\n",
    "print(\"recall for snp : \", recall_score(y_test_bin_snp, y_pred_bin_snp) * 100)\n",
    "print(\"f1-score for snp : \", f1_score(y_test_bin_snp, y_pred_bin_snp) * 100)"
   ]
  },
  {
   "cell_type": "markdown",
   "metadata": {},
   "source": [
    "#### SNP and Germline"
   ]
  },
  {
   "cell_type": "code",
   "execution_count": 92,
   "metadata": {},
   "outputs": [],
   "source": [
    "list_no_var = [indx for pos, indx in labels_chr22_indx['0-0']]"
   ]
  },
  {
   "cell_type": "code",
   "execution_count": 93,
   "metadata": {},
   "outputs": [],
   "source": [
    "list_snp_novar = list_no_var + list_snp_indx"
   ]
  },
  {
   "cell_type": "code",
   "execution_count": 96,
   "metadata": {},
   "outputs": [
    {
     "name": "stdout",
     "output_type": "stream",
     "text": [
      "Using argmax : \n",
      "\n",
      "accuracy_score for snp and germline :  98.28007371112668\n",
      "precision for snp and germline :  91.7487107360525\n",
      "recall for snp and germline :  98.75525651808242\n",
      "f1-score for snp and germline :  95.12313674659754\n"
     ]
    }
   ],
   "source": [
    "print(\"Using argmax : \\n\")\n",
    "\n",
    "print(\"accuracy_score for snp and germline : \", accuracy_score(y_test_bin[list_snp_novar], y_pred_bin[list_snp_novar]) * 100)\n",
    "print(\"precision for snp and germline : \", precision_score(y_test_bin[list_snp_novar], y_pred_bin[list_snp_novar]) * 100)\n",
    "print(\"recall for snp and germline : \", recall_score(y_test_bin[list_snp_novar], y_pred_bin[list_snp_novar]) * 100)\n",
    "print(\"f1-score for snp and germline : \", f1_score(y_test_bin[list_snp_novar], y_pred_bin[list_snp_novar]) * 100)"
   ]
  },
  {
   "cell_type": "code",
   "execution_count": 95,
   "metadata": {},
   "outputs": [
    {
     "data": {
      "image/png": "[encoded data removed]",
      "text/plain": [
       "<Figure size 432x288 with 1 Axes>"
      ]
     },
     "metadata": {
      "needs_background": "light"
     },
     "output_type": "display_data"
    }
   ],
   "source": [
    "average_precision = average_precision_score(y_test_bin[list_snp_novar], y_pred_prob[list_snp_novar])\n",
    "\n",
    "precision, recall, tr = precision_recall_curve(y_test_bin[list_snp_novar], y_pred_prob[list_snp_novar])\n",
    "\n",
    "# In matplotlib < 1.5, plt.fill_between does not have a 'step' argument\n",
    "step_kwargs = ({'step': 'post'}\n",
    "               if 'step' in signature(plt.fill_between).parameters\n",
    "               else {})\n",
    "plt.step(precision, recall, color='b', alpha=0.2,\n",
    "         where='post')\n",
    "#plt.fill_between(recall, precision, alpha=0.2, color='b', **step_kwargs)\n",
    "\n",
    "plt.xlabel('Recall')\n",
    "plt.ylabel('Precision')\n",
    "plt.ylim([0.0, 1.05])\n",
    "plt.xlim([0.0, 1.05])\n",
    "plt.title('SNP-Germline Precision-Recall curve: AP={0:0.2f}'.format(\n",
    "          average_precision))\n",
    "plt.legend([\"AUC={0:0.2f}\".format(auc(recall, precision) * 100)])\n",
    "plt.show()"
   ]
  },
  {
   "cell_type": "code",
   "execution_count": 185,
   "metadata": {},
   "outputs": [
    {
     "name": "stdout",
     "output_type": "stream",
     "text": [
      "Using 0.9 as threshold : \n",
      "\n",
      "accuracy_score for snp and germline :  99.08575346770853\n",
      "precision for snp and germline :  96.71150971599403\n",
      "recall for snp and germline :  97.94785534062237\n",
      "f1-score for snp and germline :  97.32575630954369\n"
     ]
    }
   ],
   "source": [
    "print(\"Using 0.9 as threshold : \\n\")\n",
    "\n",
    "print(\"accuracy_score for snp and germline : \", accuracy_score(y_test_bin[list_snp_novar], y_pred_prob[list_snp_novar] > 0.9) * 100)\n",
    "print(\"precision for snp and germline : \", precision_score(y_test_bin[list_snp_novar], y_pred_prob[list_snp_novar] > 0.9) * 100)\n",
    "print(\"recall for snp and germline : \", recall_score(y_test_bin[list_snp_novar], y_pred_prob[list_snp_novar] > 0.9) * 100)\n",
    "print(\"f1-score for snp and germline : \", f1_score(y_test_bin[list_snp_novar], y_pred_prob[list_snp_novar] > 0.9) * 100)"
   ]
  },
  {
   "cell_type": "markdown",
   "metadata": {},
   "source": [
    "### Results for Indels"
   ]
  },
  {
   "cell_type": "markdown",
   "metadata": {},
   "source": [
    "#### Only INDELS"
   ]
  },
  {
   "cell_type": "code",
   "execution_count": 98,
   "metadata": {},
   "outputs": [],
   "source": [
    "y_pred_bin_indel = y_pred_bin[list_indels_indx]\n",
    "\n",
    "y_test_bin_indel = y_test_bin[list_indels_indx]"
   ]
  },
  {
   "cell_type": "code",
   "execution_count": 100,
   "metadata": {},
   "outputs": [
    {
     "name": "stdout",
     "output_type": "stream",
     "text": [
      "Using argmax :\n",
      "\n",
      "accuracy_score for indels :  80.89128966914248\n",
      "precision for indels :  100.0\n",
      "recall for indels :  80.89128966914248\n",
      "f1-score for indels :  89.43635684957074\n"
     ]
    }
   ],
   "source": [
    "print(\"Using argmax :\\n\")\n",
    "\n",
    "print(\"accuracy_score for indels : \", accuracy_score(y_test_bin_indel, y_pred_bin_indel) * 100)\n",
    "print(\"precision for indels : \", precision_score(y_test_bin_indel, y_pred_bin_indel) * 100)\n",
    "print(\"recall for indels : \", recall_score(y_test_bin_indel, y_pred_bin_indel) * 100)\n",
    "print(\"f1-score for indels : \", f1_score(y_test_bin_indel, y_pred_bin_indel) * 100)"
   ]
  },
  {
   "cell_type": "markdown",
   "metadata": {},
   "source": [
    "#### INDELS and germline"
   ]
  },
  {
   "cell_type": "code",
   "execution_count": 108,
   "metadata": {},
   "outputs": [],
   "source": [
    "y_pred_ind_novar = y_pred_bin[list_indels_indx + list_no_var]\n",
    "y_pred_prob_indels = y_pred_prob[list_indels_indx + no_var]\n",
    "y_test_ind_novar = y_test_bin[list_indels_indx + list_no_var]\n"
   ]
  },
  {
   "cell_type": "code",
   "execution_count": 107,
   "metadata": {},
   "outputs": [
    {
     "name": "stdout",
     "output_type": "stream",
     "text": [
      "accuracy_score for indels and germline :  97.75312950968218\n",
      "precision for indels and germline :  53.149955634427684\n",
      "recall for indels and germline :  80.89128966914248\n",
      "f1-score for indels and germline :  64.1499330655957\n"
     ]
    }
   ],
   "source": [
    "print(\"accuracy_score for indels and germline : \", accuracy_score(y_test_ind_novar, y_pred_ind_novar) * 100)\n",
    "print(\"precision for indels and germline : \", precision_score(y_test_ind_novar, y_pred_ind_novar) * 100)\n",
    "print(\"recall for indels and germline : \", recall_score(y_test_ind_novar, y_pred_ind_novar) * 100)\n",
    "print(\"f1-score for indels and germline : \", f1_score(y_test_ind_novar, y_pred_ind_novar) * 100)"
   ]
  },
  {
   "cell_type": "code",
   "execution_count": 111,
   "metadata": {},
   "outputs": [
    {
     "data": {
      "image/png": "[encoded data removed]",
      "text/plain": [
       "<Figure size 432x288 with 1 Axes>"
      ]
     },
     "metadata": {
      "needs_background": "light"
     },
     "output_type": "display_data"
    }
   ],
   "source": [
    "average_precision = average_precision_score(y_test_ind_novar, y_pred_prob_indels)\n",
    "\n",
    "precision, recall, tr = precision_recall_curve(y_test_ind_novar, y_pred_prob_indels)\n",
    "\n",
    "# In matplotlib < 1.5, plt.fill_between does not have a 'step' argument\n",
    "step_kwargs = ({'step': 'post'}\n",
    "               if 'step' in signature(plt.fill_between).parameters\n",
    "               else {})\n",
    "plt.step(precision, recall, color='b', alpha=0.2,\n",
    "         where='post')\n",
    "#plt.fill_between(recall, precision, alpha=0.2, color='b', **step_kwargs)\n",
    "\n",
    "plt.xlabel('Recall')\n",
    "plt.ylabel('Precision')\n",
    "plt.ylim([0.0, 1.05])\n",
    "plt.xlim([0.0, 1.05])\n",
    "plt.title('Indels-Germline Precision-Recall curve: AP={0:0.2f}'.format(\n",
    "          average_precision))\n",
    "plt.legend([\"AUC={0:0.2f}\".format(auc(recall, precision) * 100)])\n",
    "plt.show()"
   ]
  },
  {
   "cell_type": "markdown",
   "metadata": {},
   "source": [
    "#### scoring by indel size : "
   ]
  },
  {
   "cell_type": "code",
   "execution_count": 125,
   "metadata": {},
   "outputs": [],
   "source": [
    "def get_indels_size(fname, nlines, printl=False):\n",
    "    with open(fname) as f:\n",
    "        labels_ind = {'indels_size' : []}\n",
    "        for j, line in enumerate(islice(f, nlines)):\n",
    "            if j <= 72:\n",
    "                continue\n",
    "                \n",
    "            line = line.split(\"\\t\")\n",
    "            chro = line[0]\n",
    "            \n",
    "            if chro != 'chr22':\n",
    "                continue\n",
    "                \n",
    "            pos  = int(line[1])\n",
    "            ref  = line[3]\n",
    "            ref_len = len(ref)\n",
    "            \n",
    "            label = line[-1].split(\":\")[0]\n",
    "            \n",
    "            alt  = line[4]\n",
    "            alts = alt.split(\",\")\n",
    "            \n",
    "            if label == \"0/0\":\n",
    "                continue\n",
    "                \n",
    "            elif label in ['0/1', '1/0', '0|1', '1|0', '0-1', '1-0']:\n",
    "                label = '0-1'\n",
    "                alt_len = len(alts[0])\n",
    "                \n",
    "            elif label in ['1/2', '2/1', '1|2', '2|1', '1-2', '2-1']:\n",
    "                label = '1-2'\n",
    "                alt_len = max(len(alts[0]), len(alts[1]))\n",
    "            \n",
    "            if ref_len <= alt_len:\n",
    "                continue\n",
    "            else:\n",
    "                labels_ind['indels_size'].append((pos, alt_len))\n",
    "                \n",
    "            if printl:\n",
    "                print(\" :\\t \".join((chro, pos, ref, alt, label)))\n",
    "                \n",
    "        return labels_ind"
   ]
  },
  {
   "cell_type": "code",
   "execution_count": 126,
   "metadata": {},
   "outputs": [],
   "source": [
    "indels_size = get_indels_size(path_truth_vcf, None, printl=False)"
   ]
  },
  {
   "cell_type": "code",
   "execution_count": 127,
   "metadata": {},
   "outputs": [],
   "source": [
    "indels_size = {pos : size for pos, size in indels_size['indels_size']}"
   ]
  },
  {
   "cell_type": "code",
   "execution_count": 128,
   "metadata": {},
   "outputs": [
    {
     "ename": "NameError",
     "evalue": "name 'list_indels_test' is not defined",
     "output_type": "error",
     "traceback": [
      "\u001b[0;31m---------------------------------------------------------------------------\u001b[0m",
      "\u001b[0;31mNameError\u001b[0m                                 Traceback (most recent call last)",
      "\u001b[0;32m<ipython-input-128-4ce86f842a4a>\u001b[0m in \u001b[0;36m<module>\u001b[0;34m\u001b[0m\n\u001b[0;32m----> 1\u001b[0;31m \u001b[0mlist_indels_test_size\u001b[0m \u001b[0;34m=\u001b[0m \u001b[0;34m{\u001b[0m\u001b[0mpos\u001b[0m \u001b[0;34m:\u001b[0m \u001b[0mindels_size\u001b[0m\u001b[0;34m[\u001b[0m\u001b[0mpos\u001b[0m\u001b[0;34m]\u001b[0m \u001b[0;32mfor\u001b[0m \u001b[0mpos\u001b[0m \u001b[0;32min\u001b[0m \u001b[0mlist_indels_test\u001b[0m\u001b[0;34m}\u001b[0m\u001b[0;34m\u001b[0m\u001b[0m\n\u001b[0m",
      "\u001b[0;31mNameError\u001b[0m: name 'list_indels_test' is not defined"
     ]
    }
   ],
   "source": [
    "list_indels_test_size = {pos : indels_size[pos] for pos in list_indels_test}"
   ]
  },
  {
   "cell_type": "code",
   "execution_count": 130,
   "metadata": {},
   "outputs": [
    {
     "data": {
      "text/plain": [
       "Counter({1: 777,\n",
       "         2: 450,\n",
       "         3: 99,\n",
       "         4: 41,\n",
       "         5: 54,\n",
       "         6: 14,\n",
       "         7: 13,\n",
       "         8: 6,\n",
       "         9: 10,\n",
       "         10: 2,\n",
       "         11: 5,\n",
       "         12: 2,\n",
       "         13: 4,\n",
       "         14: 1,\n",
       "         15: 1,\n",
       "         17: 1,\n",
       "         38: 1})"
      ]
     },
     "execution_count": 130,
     "metadata": {},
     "output_type": "execute_result"
    }
   ],
   "source": [
    "Counter(list_indels_test_size.values()) # liste de toutes les pos ac indels et leur taille"
   ]
  },
  {
   "cell_type": "code",
   "execution_count": 129,
   "metadata": {},
   "outputs": [],
   "source": [
    "list_indels_by_size = {i : [] for i in list(Counter(list_indels_test_size.values()).keys())}"
   ]
  },
  {
   "cell_type": "code",
   "execution_count": 131,
   "metadata": {},
   "outputs": [],
   "source": [
    "for pos, size in list_indels_test_size.items():\n",
    "    list_indels_by_size[size].append(pos)"
   ]
  },
  {
   "cell_type": "code",
   "execution_count": 133,
   "metadata": {},
   "outputs": [],
   "source": [
    "list_indels_indx_by_size = {}\n",
    "\n",
    "for size, pos in list_indels_by_size.items():\n",
    "    list_indels_indx_by_size[size] = [list_variants_dic[i] for i in pos]"
   ]
  },
  {
   "cell_type": "code",
   "execution_count": 143,
   "metadata": {},
   "outputs": [],
   "source": [
    "size = []\n",
    "f1_scores = []"
   ]
  },
  {
   "cell_type": "markdown",
   "metadata": {},
   "source": [
    "indels size 1 : "
   ]
  },
  {
   "cell_type": "code",
   "execution_count": null,
   "metadata": {},
   "outputs": [],
   "source": [
    "y_pred_1 = y_pred[list_indels_indx_by_size[1]]\n",
    "y_test_indel_1 = y_test[list_indels_indx_by_size[1]]\n",
    "yt  = np.array([1 if i==2 else i for i in np.argmax(y_test_indel_1, axis=1)])\n",
    "y_pred = np.argmax(y_pred_1, axis=1)"
   ]
  },
  {
   "cell_type": "code",
   "execution_count": 145,
   "metadata": {},
   "outputs": [
    {
     "name": "stdout",
     "output_type": "stream",
     "text": [
      "accuracy_score for indels :  85.58558558558559\n",
      "precision for indels :  100.0\n",
      "recall for indels :  85.58558558558559\n",
      "f1-score for indels :  92.23300970873785\n"
     ]
    }
   ],
   "source": [
    "print(\"accuracy_score for indels : \", accuracy_score(yt, y_pred) * 100)\n",
    "print(\"precision for indels : \", precision_score(yt, y_pred) * 100)\n",
    "print(\"recall for indels : \", recall_score(yt, y_pred) * 100)\n",
    "print(\"f1-score for indels : \", f1_score(yt, y_pred) * 100)\n",
    "size.append(\"1\")\n",
    "f1_scores.append(f1_score(yt, y_pred) * 100)"
   ]
  },
  {
   "cell_type": "markdown",
   "metadata": {},
   "source": [
    "indels size 2 : "
   ]
  },
  {
   "cell_type": "code",
   "execution_count": 169,
   "metadata": {},
   "outputs": [],
   "source": [
    "y_pred = np.load(\"Results/y_pred_multiclass_B2.npy\")"
   ]
  },
  {
   "cell_type": "code",
   "execution_count": 156,
   "metadata": {},
   "outputs": [],
   "source": [
    "y_pred_2 = y_pred[list_indels_indx_by_size[2]]\n",
    "y_test_indel_2 = y_test[list_indels_indx_by_size[2]]\n",
    "yt  = np.array([1 if i==2 else i for i in np.argmax(y_test_indel_2, axis=1)])\n",
    "y_pred = np.argmax(y_pred_2, axis=1)"
   ]
  },
  {
   "cell_type": "code",
   "execution_count": 157,
   "metadata": {},
   "outputs": [
    {
     "name": "stdout",
     "output_type": "stream",
     "text": [
      "accuracy_score for indels :  68.66666666666667\n",
      "precision for indels :  100.0\n",
      "recall for indels :  68.66666666666667\n",
      "f1-score for indels :  81.42292490118578\n"
     ]
    }
   ],
   "source": [
    "print(\"accuracy_score for indels : \", accuracy_score(yt, y_pred) * 100)\n",
    "print(\"precision for indels : \", precision_score(yt, y_pred) * 100)\n",
    "print(\"recall for indels : \", recall_score(yt, y_pred) * 100)\n",
    "print(\"f1-score for indels : \", f1_score(yt, y_pred) * 100)\n",
    "size.append(\"2\")\n",
    "f1_scores.append(f1_score(yt, y_pred) * 100)"
   ]
  },
  {
   "cell_type": "markdown",
   "metadata": {},
   "source": [
    "indels size 3 : "
   ]
  },
  {
   "cell_type": "code",
   "execution_count": 159,
   "metadata": {},
   "outputs": [],
   "source": [
    "y_pred_3 = y_pred[list_indels_indx_by_size[3]]\n",
    "y_test_indel_3 = y_test[list_indels_indx_by_size[3]]\n",
    "yt  = np.array([1 if i==2 else i for i in np.argmax(y_test_indel_3, axis=1)])\n",
    "y_pred = np.argmax(y_pred_3, axis=1)"
   ]
  },
  {
   "cell_type": "code",
   "execution_count": 160,
   "metadata": {},
   "outputs": [
    {
     "name": "stdout",
     "output_type": "stream",
     "text": [
      "accuracy_score for indels :  83.83838383838383\n",
      "precision for indels :  100.0\n",
      "recall for indels :  83.83838383838383\n",
      "f1-score for indels :  91.20879120879121\n"
     ]
    }
   ],
   "source": [
    "print(\"accuracy_score for indels : \", accuracy_score(yt, y_pred) * 100)\n",
    "print(\"precision for indels : \", precision_score(yt, y_pred) * 100)\n",
    "print(\"recall for indels : \", recall_score(yt, y_pred) * 100)\n",
    "print(\"f1-score for indels : \", f1_score(yt, y_pred) * 100)\n",
    "size.append(\"3\")\n",
    "f1_scores.append(f1_score(yt, y_pred) * 100)"
   ]
  },
  {
   "cell_type": "markdown",
   "metadata": {},
   "source": [
    "indels size 4 - 5: "
   ]
  },
  {
   "cell_type": "code",
   "execution_count": 162,
   "metadata": {},
   "outputs": [],
   "source": [
    "y_pred_4 = y_pred[list_indels_indx_by_size[4] + list_indels_indx_by_size[5]]\n",
    "y_test_indel_4 = y_test[list_indels_indx_by_size[4] + list_indels_indx_by_size[5]]\n",
    "yt  = np.array([1 if i==2 else i for i in np.argmax(y_test_indel_4, axis=1)])\n",
    "y_pred = np.argmax(y_pred_4, axis=1)"
   ]
  },
  {
   "cell_type": "code",
   "execution_count": 163,
   "metadata": {},
   "outputs": [
    {
     "name": "stdout",
     "output_type": "stream",
     "text": [
      "accuracy_score for indels :  90.52631578947368\n",
      "precision for indels :  100.0\n",
      "recall for indels :  90.52631578947368\n",
      "f1-score for indels :  95.02762430939227\n"
     ]
    }
   ],
   "source": [
    "print(\"accuracy_score for indels : \", accuracy_score(yt, y_pred) * 100)\n",
    "print(\"precision for indels : \", precision_score(yt, y_pred) * 100)\n",
    "print(\"recall for indels : \", recall_score(yt, y_pred) * 100)\n",
    "print(\"f1-score for indels : \", f1_score(yt, y_pred) * 100)\n",
    "size.append(\"4-5\")\n",
    "f1_scores.append(f1_score(yt, y_pred) * 100)"
   ]
  },
  {
   "cell_type": "markdown",
   "metadata": {},
   "source": [
    "indels size 6-38 :"
   ]
  },
  {
   "cell_type": "code",
   "execution_count": 164,
   "metadata": {},
   "outputs": [],
   "source": [
    "list_6_38 = [list_indels_indx_by_size[i] for i in [6,7,8,9,10,11,12,13,14,15,17,38]]"
   ]
  },
  {
   "cell_type": "code",
   "execution_count": 168,
   "metadata": {},
   "outputs": [],
   "source": [
    "list_6_38 = sum(list_6_38, [])"
   ]
  },
  {
   "cell_type": "code",
   "execution_count": 170,
   "metadata": {},
   "outputs": [],
   "source": [
    "y_pred_5 = y_pred[list_6_38]\n",
    "y_test_indel_5 = y_test[list_6_38]\n",
    "yt  = np.array([1 if i==2 else i for i in np.argmax(y_test_indel_5, axis=1)])\n",
    "y_pred = np.argmax(y_pred_5, axis=1)"
   ]
  },
  {
   "cell_type": "code",
   "execution_count": 171,
   "metadata": {},
   "outputs": [
    {
     "name": "stdout",
     "output_type": "stream",
     "text": [
      "accuracy_score for indels :  91.66666666666666\n",
      "precision for indels :  100.0\n",
      "recall for indels :  91.66666666666666\n",
      "f1-score for indels :  95.65217391304348\n"
     ]
    }
   ],
   "source": [
    "print(\"accuracy_score for indels : \", accuracy_score(yt, y_pred) * 100)\n",
    "print(\"precision for indels : \", precision_score(yt, y_pred) * 100)\n",
    "print(\"recall for indels : \", recall_score(yt, y_pred) * 100)\n",
    "print(\"f1-score for indels : \", f1_score(yt, y_pred) * 100)\n",
    "size.append(\"6-38\")\n",
    "f1_scores.append(f1_score(yt, y_pred) * 100)"
   ]
  },
  {
   "cell_type": "code",
   "execution_count": 174,
   "metadata": {},
   "outputs": [
    {
     "data": {
      "image/png": "[encoded data removed]",
      "text/plain": [
       "<Figure size 432x288 with 1 Axes>"
      ]
     },
     "metadata": {
      "needs_background": "light"
     },
     "output_type": "display_data"
    }
   ],
   "source": [
    "fig, ax = plt.subplots()\n",
    "ax.scatter(size, f1_scores)\n",
    "\n",
    "for i, txt in enumerate(f1_scores):\n",
    "    txt = round(txt, 1)\n",
    "    if i==0:\n",
    "        ax.annotate(txt, (size[i], f1_scores[i]), textcoords='offset points', xytext=(-10, -20))\n",
    "    elif i==1:\n",
    "        ax.annotate(txt, (size[i], f1_scores[i]), textcoords='offset points', xytext=(-10, 20))\n",
    "    else:\n",
    "        ax.annotate(txt, (size[i], f1_scores[i]), textcoords='offset points', xytext=(-10, -15))\n",
    "        \n",
    "plt.title(\"f1-score vs indel length\")\n",
    "plt.xlabel(\"length (bp)\")\n",
    "plt.ylabel(\"f1-score (%)\")\n",
    "plt.show()"
   ]
  },
  {
   "cell_type": "markdown",
   "metadata": {},
   "source": [
    "# Binary class tuning"
   ]
  },
  {
   "cell_type": "code",
   "execution_count": 12,
   "metadata": {},
   "outputs": [],
   "source": [
    "model_EfficientNetB2.load_weights(\"Models/weights_EfficientNetB2_CNN.hdf5\")"
   ]
  },
  {
   "cell_type": "code",
   "execution_count": 41,
   "metadata": {},
   "outputs": [],
   "source": [
    "last_layer = model_EfficientNetB2.get_layer('dense_2').output\n",
    "drop = Dropout(0.2)(last_layer)\n",
    "out = Dense(1, activation='sigmoid', name='prediction')(drop)\n",
    "model_pretrained_binary = Model(input=model_EfficientNetB2.input, output=out)"
   ]
  },
  {
   "cell_type": "markdown",
   "metadata": {},
   "source": [
    "## VCF Generation <a name='vcf'></a>"
   ]
  },
  {
   "cell_type": "markdown",
   "metadata": {},
   "source": [
    "Dossier où y'a les scripts pour générer le VCF G:\\genomics002\\calva\\abl3GenomicML\\BSpGenomicLearning\\BSpVariantCallerSolver.m\\src\\variant_caller"
   ]
  },
  {
   "cell_type": "code",
   "execution_count": 13,
   "metadata": {},
   "outputs": [],
   "source": [
    "from genomic_utils import WINDOW_WIDTH, WINDOW_HEIGHT, log, getAlleleTuple\n",
    "import pysam\n",
    "import numpy as np\n",
    "\n",
    "imgIndexFile = \"/mnt/genomics002/calva/out/pileups/mixture_HG001_HG002/chr22_index_sorted.txt\" # path index\n",
    "imgRootDir = \"/mnt/genomics002/calva/out/pileups/mixture_HG001_HG002/chr22/\"\n",
    "modelFilePath= \"Models/weights_EfficientNetB2_CNN.hdf5\"\n",
    "vcfSamplePath= \"/mnt/genomics002/calva/data/GIAB/na12878-na24385-germline-hg38-truth.vcf\" # vcf ex for header"
   ]
  },
  {
   "cell_type": "code",
   "execution_count": 14,
   "metadata": {},
   "outputs": [],
   "source": [
    "import json\n",
    "# load the partition data\n",
    "with open('Data/partition.json', 'r') as f:\n",
    "    partition = json.load(f)\n",
    "list_indx_test  = partition['test']"
   ]
  },
  {
   "cell_type": "code",
   "execution_count": null,
   "metadata": {},
   "outputs": [],
   "source": [
    "# load network\n",
    "log(\"* Loading model\")\n",
    "\n",
    "model_trained = create_network((299, 299, 5), EfficientNetB2) #doit être correctement instancié\n",
    "\n",
    "model_trained.load_weights(modelFilePath) \n",
    "\n",
    "log(\"* Loading testing set\")\n",
    "\n",
    "testing_set = X_test\n",
    "testing_size = testing_set.shape[0]\n",
    "print(\"Size of test set : \", testing_size)\n"
   ]
  },
  {
   "cell_type": "code",
   "execution_count": 20,
   "metadata": {},
   "outputs": [],
   "source": [
    "## predict and create a vcf\n",
    "# set to evaluate mode\n",
    "\n",
    "sampleVCF = pysam.VariantFile(vcfSamplePath)\n",
    "outVCF = pysam.VariantFile(\"Results/outVCF.vcf\", 'w', header=sampleVCF.header)"
   ]
  },
  {
   "cell_type": "code",
   "execution_count": 120,
   "metadata": {},
   "outputs": [
    {
     "name": "stderr",
     "output_type": "stream",
     "text": [
      "* predicting on 100 instances \n"
     ]
    },
    {
     "name": "stdout",
     "output_type": "stream",
     "text": [
      "71484/71484 [==============================] - 1650s 23ms/step\n"
     ]
    }
   ],
   "source": [
    "log(\"* predicting on \" + str(testing_size) +  \" instances \")\n",
    "\n",
    "\n",
    "predValues = model_trained.predict(X_test, verbose=1)\n",
    "predClasses = np.argmax(predValues, axis=1)"
   ]
  },
  {
   "cell_type": "code",
   "execution_count": 15,
   "metadata": {},
   "outputs": [],
   "source": [
    "predValues = np.load(\"Results/y_pred_multiclass_B2.npy\")"
   ]
  },
  {
   "cell_type": "code",
   "execution_count": 16,
   "metadata": {},
   "outputs": [
    {
     "name": "stdout",
     "output_type": "stream",
     "text": [
      "1\n"
     ]
    }
   ],
   "source": [
    "predClasses = np.argmax(predValues, axis=1)\n",
    "print(np.max(predClasses))"
   ]
  },
  {
   "cell_type": "code",
   "execution_count": 7,
   "metadata": {},
   "outputs": [],
   "source": [
    "from itertools import islice\n",
    "\n",
    "# hypothèse que la liste des index est dans l'ordre du VCF ...\n",
    "def output_metadatas(path_vcf_test, list_indx, verbose=True):\n",
    "    nlines = len(list_indx) + 2 # on saute le header\n",
    "    metaInfoList = []\n",
    "    with open(path_vcf_test) as f:\n",
    "        i=0\n",
    "        for line in islice(f, nlines):\n",
    "            i+=1\n",
    "            if i > 2:\n",
    "                line  = line.split(\"\\n\")[0].split(\"\\t\")\n",
    "                if line[-1] == '1-2':\n",
    "                    line[-1] = '0-1'\n",
    "                metaInfoList.append(line)\n",
    "                if verbose:\n",
    "                    print(list_indx[i - 3], line[1])\n",
    "                    \n",
    "    return np.array(metaInfoList)"
   ]
  },
  {
   "cell_type": "code",
   "execution_count": 8,
   "metadata": {},
   "outputs": [],
   "source": [
    "path_vcf_test = '/mnt/genomics002/calva/out/pileups/mixture_HG001_HG002/chr22_index_sorted.txt'\n",
    "\n",
    "metaInfoList = output_metadatas(path_vcf_test, list_indx_test, False)"
   ]
  },
  {
   "cell_type": "code",
   "execution_count": 9,
   "metadata": {},
   "outputs": [],
   "source": [
    "np.save(\"Results/metaInfoList.npy\", metaInfoList)"
   ]
  },
  {
   "cell_type": "code",
   "execution_count": 23,
   "metadata": {},
   "outputs": [],
   "source": [
    "metaInfoList = np.load(\"Results/metaInfoList.npy\")"
   ]
  },
  {
   "cell_type": "code",
   "execution_count": 25,
   "metadata": {},
   "outputs": [
    {
     "data": {
      "text/plain": [
       "array(['chr22', '18925633', 'A>A', 'A>C', 'A>C', '', '0.0359284',\n",
       "       '1.06764e-06', '8.7722e-28', '0', '0-0'], dtype='<U97')"
      ]
     },
     "execution_count": 25,
     "metadata": {},
     "output_type": "execute_result"
    }
   ],
   "source": [
    "metaInfoList[0]"
   ]
  },
  {
   "cell_type": "code",
   "execution_count": 29,
   "metadata": {},
   "outputs": [
    {
     "name": "stderr",
     "output_type": "stream",
     "text": [
      "* found 0 inconsistencies\n"
     ]
    }
   ],
   "source": [
    "HOM_REF = 0\n",
    "HET_REF_ALT = 1\n",
    "\n",
    "nbInconsistencies = 0\n",
    "\n",
    "for predValue, predClass, metadata in zip(predValues, predClasses, metaInfoList) :\n",
    "    \n",
    "    contig, position, ref, alt01, alt11, alt12, p00, p01, p11, p12, imgLabel = metadata\n",
    "    predValue = predValue[predClass]\n",
    "\n",
    "    location = contig + \":\" + position\n",
    "    position = int(position)\n",
    "    \n",
    "    if imgLabel=='1-2':\n",
    "        print(location)\n",
    "    \n",
    "    if predClass == HOM_REF: \n",
    "          continue\n",
    "\n",
    "    elif predClass == HET_REF_ALT : \n",
    "        if not alt01 : \n",
    "        # log(\"WARNING : no allele 0-1\")\n",
    "            nbInconsistencies += 1 \n",
    "            continue\n",
    "        alleleTuple = getAlleleTuple(alt01)\n",
    "        gt = [0,1]\n",
    "\n",
    "    else:\n",
    "          raise Exception(\"Unknown predicted genotype : \" + predClass)\n",
    "\n",
    "\n",
    "    qual = -10 * np.log(1 - predValue) # Phred-scaled quality score -> best one \n",
    "    # qual = int(predValue * 10 ** 5) # Arthur\n",
    "    # qual = int(100 * predValue)\n",
    "    if qual < -(2**31 - 1) : qual = -(2 ** 31 - 1)\n",
    "    if qual > (2**31 - 1)  : qual = 2 ** 31 - 1\n",
    "    qual = int(qual)\n",
    "    \n",
    "    vr = outVCF.new_record(contig=contig, start=position-1, stop=position, alleles=alleleTuple, samples=[{\"GT\" : gt,\"GQ\":qual}])\n",
    "    outVCF.write(vr)\n",
    "    \n",
    "log(\"* found \" + str(nbInconsistencies) + \" inconsistencies\")"
   ]
  },
  {
   "cell_type": "markdown",
   "metadata": {},
   "source": [
    "### reindex output vcf"
   ]
  },
  {
   "cell_type": "code",
   "execution_count": 16,
   "metadata": {},
   "outputs": [],
   "source": [
    "path_bed = \"/mnt/genomics002/calva/data/GIAB/na12878-na24385-somatic-hg38-truth-regions-sorted.bed.gz\"\n",
    "path_out_vcf = \"/home/users/cec1/Results/outVCF.vcf\"\n",
    "path_out_vcf_sorted = \"/home/users/cec1/Results/out_sorted.vcf\"\n",
    "path_truth_vcf = \"/mnt/genomics002/calva/data/GIAB/na12878-na24385-somatic-hg38-truth.vcf.gz\"\n",
    "path_truth_vcf_modified = \"/home/users/cec1/Data/somatic-hg38-truth_modified.vcf\"\n",
    "\n",
    "path_outputs = \"/home/users/cec1/outputs\"\n",
    "path_grch38  = \"/mnt/genomics002/calva/data/RTG/GRCh38_hs38d1.sdf\"\n",
    "\n",
    "path_bgzip = \"/mnt/genomics002/utilities/samtools/htslib-1.9/bgzip\"\n",
    "path_tabix = \"/mnt/genomics002/utilities/samtools/htslib-1.9/tabix\"\n",
    "path_rtg   = \"/mnt/genomics002/utilities/rtg-tools-3.10.1/rtg\""
   ]
  },
  {
   "cell_type": "code",
   "execution_count": 17,
   "metadata": {},
   "outputs": [],
   "source": [
    "! {path_bgzip} -c {path_truth_vcf_modified} > {path_truth_vcf_modified + \".gz\"}\n",
    "! {path_tabix} -p vcf {path_truth_vcf_modified}"
   ]
  },
  {
   "cell_type": "code",
   "execution_count": 30,
   "metadata": {},
   "outputs": [],
   "source": [
    "# sort vcf by pos\n",
    "! cat {path_out_vcf} | awk '$1 ~ /^#/ {print $0;next} {print $0 | \"sort -k1,1 -k2,2n\"}' > {path_out_vcf_sorted}"
   ]
  },
  {
   "cell_type": "code",
   "execution_count": 31,
   "metadata": {},
   "outputs": [],
   "source": [
    "! {path_bgzip} -c {path_out_vcf_sorted} > {path_out_vcf_sorted + \".gz\"}\n",
    "! {path_tabix} -p vcf {path_out_vcf_sorted + \".gz\"}"
   ]
  },
  {
   "cell_type": "code",
   "execution_count": 11,
   "metadata": {},
   "outputs": [
    {
     "name": "stdout",
     "output_type": "stream",
     "text": [
      "Threshold  True-pos-baseline  True-pos-call  False-pos  False-neg  Precision  Sensitivity  F-measure\r\n",
      "----------------------------------------------------------------------------------------------------\r\n",
      "   32.000              12499          12501        280       1661     0.9781       0.8827     0.9279\r\n",
      "     None              12835          12837       1164       1325     0.9169       0.9064     0.9116\r\n",
      "\r\n"
     ]
    }
   ],
   "source": [
    "! {path_rtg}  vcfeval -b {path_truth_vcf} -c {path_out_vcf_sorted} -o {path_outputs} --region=chr22 -t {path_grch38}"
   ]
  },
  {
   "cell_type": "markdown",
   "metadata": {},
   "source": [
    "Lot of false negatives position were not in the test set : "
   ]
  },
  {
   "cell_type": "code",
   "execution_count": 9,
   "metadata": {},
   "outputs": [],
   "source": [
    "def list_indx_not_present(path_vcf, verbose=True):\n",
    "    index = []\n",
    "    with open(path_vcf) as f:\n",
    "        i=0\n",
    "        for line in islice(f, None):\n",
    "            i+=1\n",
    "            if i > 74:\n",
    "                line  = line.split(\"\\n\")[0].split(\"\\t\")\n",
    "                index.append(int(line[1]))\n",
    "                if verbose:\n",
    "                    print(line)\n",
    "                    \n",
    "    return index"
   ]
  },
  {
   "cell_type": "code",
   "execution_count": 39,
   "metadata": {},
   "outputs": [],
   "source": [
    "path_vcf = \"outputs/fn.vcf\"\n",
    "index_fn_vcf = list_indx_not_present(path_vcf, False)\n",
    "nb_mismatchs = 0\n",
    "\n",
    "for i in index_fn_vcf:\n",
    "    if i not in list_indx_test:\n",
    "        nb_mismatchs+=1"
   ]
  },
  {
   "cell_type": "code",
   "execution_count": 42,
   "metadata": {},
   "outputs": [
    {
     "name": "stdout",
     "output_type": "stream",
     "text": [
      "no threshold\n",
      "nb of images not present in the test set =  781\n",
      "true nb of false negative =  544\n",
      "true sensitivity =  95.82981985435032\n",
      "true F-measure   =  96.8149796023754\n",
      "gap between F-measures =  1.1230000000000047\n"
     ]
    }
   ],
   "source": [
    "print(\"no threshold\")\n",
    "print(\"nb of images not present in the test set = \", nb_mismatchs)\n",
    "print(\"true nb of false negative = \", 1325 - nb_mismatchs)\n",
    "print(\"true sensitivity = \",100 * 12501 / (12501 + 544))\n",
    "print(\"true F-measure   = \", 200 * (0.9584 * 0.9781) / (0.9584 + 0.9781) )\n",
    "print(\"gap between F-measures = \", 97.9379 - 96.8149)"
   ]
  },
  {
   "cell_type": "markdown",
   "metadata": {},
   "source": [
    "# Custom Efficient Nets "
   ]
  },
  {
   "cell_type": "code",
   "execution_count": 7,
   "metadata": {},
   "outputs": [],
   "source": [
    "class Swish(Layer):\n",
    "\n",
    "    def __init__(self, **kwargs):\n",
    "        super(Swish, self).__init__(**kwargs)\n",
    "        self.supports_masking = True\n",
    "        self.__name__ = \"swish\"\n",
    "\n",
    "    def call(self, inputs, training=None):\n",
    "        return tf.nn.swish(inputs)\n",
    "\n",
    "\n",
    "def conv2d_bn_swish(x, filters, num_row, num_col, padding='same', \n",
    "              strides=(1, 1), name=\"first_block\"):\n",
    "    \"\"\"Utility function to apply conv + BN.\n",
    "    # Arguments\n",
    "        x: input tensor.\n",
    "        filters: filters in `Conv2D`.\n",
    "        num_row: height of the convolution kernel.\n",
    "        num_col: width of the convolution kernel.\n",
    "        padding: padding mode in `Conv2D`.\n",
    "        strides: strides in `Conv2D`.\n",
    "        name: name of the ops; will become `name + '_conv'`\n",
    "            for the convolution and `name + '_bn'` for the\n",
    "            batch norm layer.\n",
    "    # Returns\n",
    "        Output tensor after applying `Conv2D` and `BatchNormalization`.\n",
    "    \"\"\"\n",
    "    if name is not None:\n",
    "        bn_name = name + '_bn'\n",
    "        conv_name = name + '_conv'\n",
    "    else:\n",
    "        bn_name = None\n",
    "        conv_name = None\n",
    "    \n",
    "    x = Conv2D(filters, (num_row, num_col), strides=strides, padding=padding, name=conv_name)(x)\n",
    "    x = BatchNormalization(axis=3, scale=True, name=bn_name)(x)\n",
    "    x = Swish()(x)\n",
    "    return x"
   ]
  },
  {
   "cell_type": "code",
   "execution_count": 8,
   "metadata": {},
   "outputs": [],
   "source": [
    "BLOCK_LIST = [\n",
    "    BlockArgs(32, 16, kernel_size=3, strides=(1, 1), num_repeat=1, se_ratio=0.25, expand_ratio=1),\n",
    "    BlockArgs(16, 24, kernel_size=3, strides=(2, 2), num_repeat=2, se_ratio=0.25, expand_ratio=6),\n",
    "    BlockArgs(24, 40, kernel_size=5, strides=(2, 2), num_repeat=2, se_ratio=0.25, expand_ratio=6),\n",
    "    BlockArgs(40, 80, kernel_size=3, strides=(2, 2), num_repeat=3, se_ratio=0.25, expand_ratio=6),\n",
    "    BlockArgs(80, 112, kernel_size=5, strides=(1, 1), num_repeat=3, se_ratio=0.25, expand_ratio=6)\n",
    "]\n"
   ]
  },
  {
   "cell_type": "code",
   "execution_count": 9,
   "metadata": {},
   "outputs": [
    {
     "name": "stdout",
     "output_type": "stream",
     "text": [
      "WARNING:tensorflow:From /opt/python3.5/lib/python3.5/site-packages/tensorflow/python/framework/function.py:987: calling Graph.create_op (from tensorflow.python.framework.ops) with compute_shapes is deprecated and will be removed in a future version.\n",
      "Instructions for updating:\n",
      "Shapes are always computed; don't use the compute_shapes as it has no effect.\n"
     ]
    }
   ],
   "source": [
    "inp = Input(shape=(299, 299, 5))\n",
    "x = conv2d_bn_swish(inp, 10, 299, 1, name=\"first_block\")\n",
    "x = SpatialDropout2D(0.1)(x)\n",
    "\n",
    "base_model =  EfficientNet(input_shape=None,\n",
    "                        block_args_list = BLOCK_LIST,\n",
    "                        width_coefficient=1.1,\n",
    "                        depth_coefficient=1.2,\n",
    "                        include_top=False,\n",
    "                        weights=None,\n",
    "                        input_tensor=x,\n",
    "                        pooling=\"avg\",\n",
    "                        drop_connect_rate=0.1)\n",
    "x = base_model.output\n",
    "x = Dense(1024, activation=Swish(), use_bias=True)(x)\n",
    "x = Dropout(0.5)(x)\n",
    "x = Dense(200, activation=Swish(), use_bias=True)(x)\n",
    "predictions = Dense(2, activation=\"softmax\")(x)\n",
    "\n"
   ]
  },
  {
   "cell_type": "code",
   "execution_count": 10,
   "metadata": {},
   "outputs": [],
   "source": [
    "model = Model(inp, predictions)"
   ]
  },
  {
   "cell_type": "code",
   "execution_count": 11,
   "metadata": {},
   "outputs": [],
   "source": [
    "y_train_bin = np.array([[1., 0.] if all(i == [1., 0., 0.]) else [0., 1.] for i in y_train])\n",
    "y_valid_bin = np.array([[1., 0.] if all(i == [1., 0., 0.]) else [0., 1.] for i in y_valid])\n",
    "y_test_bin  = np.array([[1., 0.] if all(i == [1., 0., 0.]) else [0., 1.] for i in y_test])"
   ]
  },
  {
   "cell_type": "code",
   "execution_count": null,
   "metadata": {},
   "outputs": [
    {
     "name": "stdout",
     "output_type": "stream",
     "text": [
      "Train on 24880 samples, validate on 6128 samples\n",
      "Epoch 1/100\n",
      "24880/24880 [==============================] - 1223s 49ms/step - loss: 0.2323 - categorical_accuracy: 0.9105 - val_loss: 0.1668 - val_categorical_accuracy: 0.9426\n",
      "Epoch 2/100\n",
      "24880/24880 [==============================] - 1197s 48ms/step - loss: 0.1325 - categorical_accuracy: 0.9549 - val_loss: 0.1007 - val_categorical_accuracy: 0.9644\n",
      "Epoch 3/100\n",
      "24880/24880 [==============================] - 1200s 48ms/step - loss: 0.1075 - categorical_accuracy: 0.9633 - val_loss: 0.1062 - val_categorical_accuracy: 0.9675\n",
      "Epoch 4/100\n",
      "24880/24880 [==============================] - 1201s 48ms/step - loss: 0.0936 - categorical_accuracy: 0.9678 - val_loss: 0.0863 - val_categorical_accuracy: 0.9703\n",
      "Epoch 5/100\n",
      "24880/24880 [==============================] - 1202s 48ms/step - loss: 0.0826 - categorical_accuracy: 0.9698 - val_loss: 0.0950 - val_categorical_accuracy: 0.9683\n",
      "Epoch 6/100\n",
      "24880/24880 [==============================] - 1201s 48ms/step - loss: 0.0762 - categorical_accuracy: 0.9713 - val_loss: 0.0805 - val_categorical_accuracy: 0.9693\n",
      "Epoch 7/100\n",
      "24880/24880 [==============================] - 1201s 48ms/step - loss: 0.0704 - categorical_accuracy: 0.9744 - val_loss: 0.1034 - val_categorical_accuracy: 0.9690\n",
      "Epoch 8/100\n",
      "24880/24880 [==============================] - 1201s 48ms/step - loss: 0.0641 - categorical_accuracy: 0.9765 - val_loss: 0.0895 - val_categorical_accuracy: 0.9732\n",
      "Epoch 9/100\n",
      "24880/24880 [==============================] - 1199s 48ms/step - loss: 0.0585 - categorical_accuracy: 0.9795 - val_loss: 0.0793 - val_categorical_accuracy: 0.9729\n",
      "Epoch 10/100\n",
      "24880/24880 [==============================] - 1186s 48ms/step - loss: 0.0508 - categorical_accuracy: 0.9808 - val_loss: 0.1032 - val_categorical_accuracy: 0.9713\n",
      "Epoch 11/100\n",
      "24880/24880 [==============================] - 1197s 48ms/step - loss: 0.0454 - categorical_accuracy: 0.9830 - val_loss: 0.1038 - val_categorical_accuracy: 0.9745\n",
      "Epoch 12/100\n",
      "24880/24880 [==============================] - 1198s 48ms/step - loss: 0.0413 - categorical_accuracy: 0.9840 - val_loss: 0.0788 - val_categorical_accuracy: 0.9757\n",
      "Epoch 13/100\n",
      "24880/24880 [==============================] - 1203s 48ms/step - loss: 0.0377 - categorical_accuracy: 0.9863 - val_loss: 0.1261 - val_categorical_accuracy: 0.9586\n",
      "Epoch 14/100\n",
      "24880/24880 [==============================] - 1209s 49ms/step - loss: 0.0342 - categorical_accuracy: 0.9863 - val_loss: 0.1115 - val_categorical_accuracy: 0.9729\n",
      "Epoch 15/100\n",
      "24880/24880 [==============================] - 1201s 48ms/step - loss: 0.0310 - categorical_accuracy: 0.9878 - val_loss: 0.1054 - val_categorical_accuracy: 0.9731\n",
      "Epoch 16/100\n",
      "24880/24880 [==============================] - 1207s 49ms/step - loss: 0.0265 - categorical_accuracy: 0.9912 - val_loss: 0.1006 - val_categorical_accuracy: 0.9758\n",
      "Epoch 17/100\n",
      "24880/24880 [==============================] - 1206s 48ms/step - loss: 0.0255 - categorical_accuracy: 0.9908 - val_loss: 0.1289 - val_categorical_accuracy: 0.9750\n",
      "Epoch 18/100\n",
      "24880/24880 [==============================] - 1205s 48ms/step - loss: 0.0256 - categorical_accuracy: 0.9904 - val_loss: 0.1392 - val_categorical_accuracy: 0.9639\n",
      "Epoch 19/100\n",
      "24880/24880 [==============================] - 1208s 49ms/step - loss: 0.0227 - categorical_accuracy: 0.9922 - val_loss: 0.1010 - val_categorical_accuracy: 0.9754\n",
      "Epoch 20/100\n",
      "24880/24880 [==============================] - 1210s 49ms/step - loss: 0.0252 - categorical_accuracy: 0.9916 - val_loss: 0.1135 - val_categorical_accuracy: 0.9732\n",
      "Epoch 21/100\n",
      "24880/24880 [==============================] - 1208s 49ms/step - loss: 0.0199 - categorical_accuracy: 0.9929 - val_loss: 0.1402 - val_categorical_accuracy: 0.9701\n",
      "Epoch 22/100\n",
      "24880/24880 [==============================] - 1206s 48ms/step - loss: 0.0205 - categorical_accuracy: 0.9923 - val_loss: 0.1182 - val_categorical_accuracy: 0.9731\n",
      "Epoch 23/100\n",
      "24880/24880 [==============================] - 1205s 48ms/step - loss: 0.0166 - categorical_accuracy: 0.9946 - val_loss: 0.1297 - val_categorical_accuracy: 0.9700\n",
      "Epoch 24/100\n",
      "24880/24880 [==============================] - 1209s 49ms/step - loss: 0.0184 - categorical_accuracy: 0.9931 - val_loss: 0.1284 - val_categorical_accuracy: 0.9726\n",
      "Epoch 25/100\n",
      "24880/24880 [==============================] - 1210s 49ms/step - loss: 0.0165 - categorical_accuracy: 0.9943 - val_loss: 0.1310 - val_categorical_accuracy: 0.9763\n",
      "Epoch 26/100\n",
      "24880/24880 [==============================] - 1210s 49ms/step - loss: 0.0139 - categorical_accuracy: 0.9949 - val_loss: 0.1874 - val_categorical_accuracy: 0.9458\n",
      "Epoch 27/100\n",
      "24880/24880 [==============================] - 1209s 49ms/step - loss: 0.0165 - categorical_accuracy: 0.9939 - val_loss: 0.1281 - val_categorical_accuracy: 0.9739\n",
      "Epoch 28/100\n",
      "24880/24880 [==============================] - 1211s 49ms/step - loss: 0.0145 - categorical_accuracy: 0.9947 - val_loss: 0.1292 - val_categorical_accuracy: 0.9710\n",
      "Epoch 29/100\n",
      "24880/24880 [==============================] - 1213s 49ms/step - loss: 0.0122 - categorical_accuracy: 0.9955 - val_loss: 0.1420 - val_categorical_accuracy: 0.9719\n",
      "Epoch 30/100\n",
      "24880/24880 [==============================] - 1218s 49ms/step - loss: 0.0130 - categorical_accuracy: 0.9955 - val_loss: 0.1359 - val_categorical_accuracy: 0.9742\n",
      "Epoch 31/100\n",
      "24880/24880 [==============================] - 1225s 49ms/step - loss: 0.0142 - categorical_accuracy: 0.9952 - val_loss: 0.1514 - val_categorical_accuracy: 0.9695\n",
      "Epoch 32/100\n",
      "24880/24880 [==============================] - 1221s 49ms/step - loss: 0.0138 - categorical_accuracy: 0.9956 - val_loss: 0.1349 - val_categorical_accuracy: 0.9737\n",
      "Epoch 33/100\n",
      "24880/24880 [==============================] - 1220s 49ms/step - loss: 0.0113 - categorical_accuracy: 0.9963 - val_loss: 0.1148 - val_categorical_accuracy: 0.9749\n",
      "Epoch 34/100\n",
      "24880/24880 [==============================] - 1224s 49ms/step - loss: 0.0148 - categorical_accuracy: 0.9951 - val_loss: 0.1167 - val_categorical_accuracy: 0.9716\n",
      "Epoch 35/100\n",
      "24880/24880 [==============================] - 1223s 49ms/step - loss: 0.0117 - categorical_accuracy: 0.9962 - val_loss: 0.1388 - val_categorical_accuracy: 0.9736\n",
      "Epoch 36/100\n",
      "24880/24880 [==============================] - 1221s 49ms/step - loss: 0.0122 - categorical_accuracy: 0.9958 - val_loss: 0.1354 - val_categorical_accuracy: 0.9718\n",
      "Epoch 37/100\n",
      "24880/24880 [==============================] - 1219s 49ms/step - loss: 0.0141 - categorical_accuracy: 0.9959 - val_loss: 0.1273 - val_categorical_accuracy: 0.9749\n",
      "Epoch 38/100\n",
      "24880/24880 [==============================] - 1219s 49ms/step - loss: 0.0125 - categorical_accuracy: 0.9957 - val_loss: 0.0985 - val_categorical_accuracy: 0.9760\n",
      "Epoch 39/100\n",
      "24880/24880 [==============================] - 1219s 49ms/step - loss: 0.0115 - categorical_accuracy: 0.9957 - val_loss: 0.1201 - val_categorical_accuracy: 0.9768\n",
      "Epoch 40/100\n",
      "24880/24880 [==============================] - 1220s 49ms/step - loss: 0.0087 - categorical_accuracy: 0.9970 - val_loss: 0.1440 - val_categorical_accuracy: 0.9741\n",
      "Epoch 41/100\n",
      "24880/24880 [==============================] - 1220s 49ms/step - loss: 0.0142 - categorical_accuracy: 0.9954 - val_loss: 0.1173 - val_categorical_accuracy: 0.9727\n",
      "Epoch 42/100\n",
      "24880/24880 [==============================] - 1222s 49ms/step - loss: 0.0109 - categorical_accuracy: 0.9963 - val_loss: 0.1255 - val_categorical_accuracy: 0.9780\n",
      "Epoch 43/100\n",
      "24880/24880 [==============================] - 1221s 49ms/step - loss: 0.0104 - categorical_accuracy: 0.9961 - val_loss: 0.1298 - val_categorical_accuracy: 0.9754\n",
      "Epoch 44/100\n",
      "24880/24880 [==============================] - 1221s 49ms/step - loss: 0.0125 - categorical_accuracy: 0.9959 - val_loss: 0.1205 - val_categorical_accuracy: 0.9744\n",
      "Epoch 45/100\n",
      "24880/24880 [==============================] - 1222s 49ms/step - loss: 0.0085 - categorical_accuracy: 0.9970 - val_loss: 0.1284 - val_categorical_accuracy: 0.9750\n",
      "Epoch 46/100\n",
      "24880/24880 [==============================] - 1222s 49ms/step - loss: 0.0108 - categorical_accuracy: 0.9962 - val_loss: 0.1420 - val_categorical_accuracy: 0.9768\n",
      "Epoch 47/100\n",
      "24880/24880 [==============================] - 1220s 49ms/step - loss: 0.0072 - categorical_accuracy: 0.9979 - val_loss: 0.1742 - val_categorical_accuracy: 0.9741\n",
      "Epoch 48/100\n",
      "24880/24880 [==============================] - 1225s 49ms/step - loss: 0.0094 - categorical_accuracy: 0.9967 - val_loss: 0.1185 - val_categorical_accuracy: 0.9760\n",
      "Epoch 49/100\n",
      "24880/24880 [==============================] - 1218s 49ms/step - loss: 0.0153 - categorical_accuracy: 0.9949 - val_loss: 0.1310 - val_categorical_accuracy: 0.9677\n",
      "Epoch 50/100\n",
      "16064/24880 [==================>...........] - ETA: 6:35 - loss: 0.0085 - categorical_accuracy: 0.9971"
     ]
    }
   ],
   "source": [
    "# model checkpoint will works only when using solo GPU\n",
    "def get_callbacks(weights_path, monitored_quantity, patience=15):\n",
    "    \n",
    "    model_checkpoint = ModelCheckpoint(weights_path, monitor=monitored_quantity, save_best_only=True,\n",
    "                                   save_weights_only=True, mode='max')\n",
    "\n",
    "    early_stopping = EarlyStopping(monitor=monitored_quantity, patience=patience, restore_best_weights=True, mode=\"max\", verbose=1)\n",
    "\n",
    "\n",
    "    return [model_checkpoint, early_stopping]\n",
    "\n",
    "my_callbacks = get_callbacks(\"Models/weights_Custom_EfficientNet.hdf5\", \"val_categorical_accuracy\")\n"
   ]
  },
  {
   "cell_type": "code",
   "execution_count": null,
   "metadata": {},
   "outputs": [],
   "source": [
    "model.compile(\"Adam\",loss='categorical_crossentropy', metrics=[categorical_accuracy])\n",
    "\n",
    "hist = model.fit(X_train, y_train_bin, epochs=100, batch_size=64,\n",
    "                                validation_data=(X_valid, y_valid_bin),\n",
    "                                callbacks=my_callbacks)"
   ]
  },
  {
   "cell_type": "code",
   "execution_count": null,
   "metadata": {},
   "outputs": [],
   "source": [
    "model.load_weights(\"Models/weights_Custom_EfficientNet.hdf5\")"
   ]
  },
  {
   "cell_type": "code",
   "execution_count": null,
   "metadata": {},
   "outputs": [],
   "source": [
    "hist = model.fit(X_train, y_train_bin, epochs=100, batch_size=64,\n",
    "                                validation_data=(X_valid, y_valid_bin),\n",
    "                                callbacks=my_callbacks)"
   ]
  },
  {
   "cell_type": "code",
   "execution_count": null,
   "metadata": {},
   "outputs": [],
   "source": [
    "(np.sum(np.argmax(y_pred, 1) == np.argmax(y_test, 1)) / 26742) * 100"
   ]
  },
  {
   "cell_type": "markdown",
   "metadata": {},
   "source": [
    "Only majority class :\n",
    "Accuracy  :\t 0.501\n",
    "Precision :\t 0.251\n",
    "Recall    :\t 0.501\n",
    "F1-score  :\t 0.334\n",
    "\n",
    "\n",
    "\n",
    "Random predictions :\n",
    "Accuracy  :\t 0.332\n",
    "Precision :\t 0.497\n",
    "Recall    :\t 0.332\n",
    "F1-score  :\t 0.397"
   ]
  }
 ],
 "metadata": {
  "kernelspec": {
   "display_name": "Python 3",
   "language": "python",
   "name": "python3"
  },
  "language_info": {
   "codemirror_mode": {
    "name": "ipython",
    "version": 3
   },
   "file_extension": ".py",
   "mimetype": "text/x-python",
   "name": "python",
   "nbconvert_exporter": "python",
   "pygments_lexer": "ipython3",
   "version": "3.5.4"
  }
 },
 "nbformat": 4,
 "nbformat_minor": 2
}
